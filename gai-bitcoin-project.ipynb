{
 "cells": [
  {
   "cell_type": "code",
   "execution_count": 1,
   "id": "e62600aa",
   "metadata": {
    "_cell_guid": "b1076dfc-b9ad-4769-8c92-a6c4dae69d19",
    "_uuid": "8f2839f25d086af736a60e9eeb907d3b93b6e0e5",
    "execution": {
     "iopub.execute_input": "2024-09-18T23:52:49.987629Z",
     "iopub.status.busy": "2024-09-18T23:52:49.987204Z",
     "iopub.status.idle": "2024-09-18T23:52:50.404746Z",
     "shell.execute_reply": "2024-09-18T23:52:50.403263Z"
    },
    "id": "O6nqsgz_RTZS",
    "outputId": "81d91618-0741-4702-bbd8-0143446cd6b7",
    "papermill": {
     "duration": 0.439865,
     "end_time": "2024-09-18T23:52:50.407783",
     "exception": false,
     "start_time": "2024-09-18T23:52:49.967918",
     "status": "completed"
    },
    "tags": []
   },
   "outputs": [
    {
     "name": "stdout",
     "output_type": "stream",
     "text": [
      "/kaggle/input/bitcoin-historical-datasets-2018-2024/btc_1d_data_2018_to_2024-09-06.csv\n",
      "/kaggle/input/bitcoin-historical-datasets-2018-2024/btc_15m_data_2018_to_2024-09-09.csv\n",
      "/kaggle/input/bitcoin-historical-datasets-2018-2024/btc_4h_data_2018_to_2024-09-06.csv\n",
      "/kaggle/input/bitcoin-historical-datasets-2018-2024/btc_1h_data_2018_to_2024-09-06.csv\n"
     ]
    }
   ],
   "source": [
    "# This Python 3 environment comes with many helpful analytics libraries installed\n",
    "# It is defined by the kaggle/python Docker image: https://github.com/kaggle/docker-python\n",
    "# For example, here's several helpful packages to load\n",
    "\n",
    "import numpy as np # linear algebra\n",
    "import pandas as pd # data processing, CSV file I/O (e.g. pd.read_csv)\n",
    "\n",
    "# Input data files are available in the read-only \"../input/\" directory\n",
    "# For example, running this (by clicking run or pressing Shift+Enter) will list all files under the input directory\n",
    "\n",
    "import os\n",
    "for dirname, _, filenames in os.walk('/kaggle/input'):\n",
    "    for filename in filenames:\n",
    "        print(os.path.join(dirname, filename))\n",
    "\n",
    "# You can write up to 20GB to the current directory (/kaggle/working/) that gets preserved as output when you create a version using \"Save & Run All\"\n",
    "# You can also write temporary files to /kaggle/temp/, but they won't be saved outside of the current session"
   ]
  },
  {
   "cell_type": "markdown",
   "id": "cd072a9a",
   "metadata": {
    "id": "t9XZyxZ2RTZS",
    "papermill": {
     "duration": 0.013956,
     "end_time": "2024-09-18T23:52:50.436834",
     "exception": false,
     "start_time": "2024-09-18T23:52:50.422878",
     "status": "completed"
    },
    "tags": []
   },
   "source": [
    "# KÜTÜPHANELERİ IMPORT ETME VE DATA'YI OKUMA"
   ]
  },
  {
   "cell_type": "code",
   "execution_count": 2,
   "id": "901c1250",
   "metadata": {
    "execution": {
     "iopub.execute_input": "2024-09-18T23:52:50.467151Z",
     "iopub.status.busy": "2024-09-18T23:52:50.466624Z",
     "iopub.status.idle": "2024-09-18T23:52:52.292885Z",
     "shell.execute_reply": "2024-09-18T23:52:52.291641Z"
    },
    "id": "veUicHo9RTZT",
    "papermill": {
     "duration": 1.844573,
     "end_time": "2024-09-18T23:52:52.295447",
     "exception": false,
     "start_time": "2024-09-18T23:52:50.450874",
     "status": "completed"
    },
    "tags": []
   },
   "outputs": [],
   "source": [
    "import pandas as pd\n",
    "import numpy as np\n",
    "import matplotlib.pyplot as plt\n",
    "import seaborn as sns\n",
    "import warnings\n",
    "warnings.simplefilter (action = 'ignore')"
   ]
  },
  {
   "cell_type": "code",
   "execution_count": 3,
   "id": "25c4bdfc",
   "metadata": {
    "execution": {
     "iopub.execute_input": "2024-09-18T23:52:52.325403Z",
     "iopub.status.busy": "2024-09-18T23:52:52.324759Z",
     "iopub.status.idle": "2024-09-18T23:52:53.624545Z",
     "shell.execute_reply": "2024-09-18T23:52:53.623363Z"
    },
    "id": "swvXrmDtRTZT",
    "papermill": {
     "duration": 1.317937,
     "end_time": "2024-09-18T23:52:53.627435",
     "exception": false,
     "start_time": "2024-09-18T23:52:52.309498",
     "status": "completed"
    },
    "tags": []
   },
   "outputs": [],
   "source": [
    "file_path = '/kaggle/input/bitcoin-historical-datasets-2018-2024/btc_15m_data_2018_to_2024-09-09.csv' # günlük verileri çekmek istiyorum\n",
    "# Dosya satır sayısını öğren\n",
    "with open(file_path, 'r') as file:\n",
    "    total_lines = sum(1 for line in file)\n",
    "# Yalnızca sondan 110,000 satırı almak için\n",
    "nrows = 110000\n",
    "skip_rows = total_lines - nrows\n",
    "\n",
    "# Pandas ile dosyayı okuma\n",
    "df = pd.read_csv(file_path, skiprows=range(1, skip_rows))"
   ]
  },
  {
   "cell_type": "code",
   "execution_count": 4,
   "id": "30a468af",
   "metadata": {
    "execution": {
     "iopub.execute_input": "2024-09-18T23:52:53.659038Z",
     "iopub.status.busy": "2024-09-18T23:52:53.658606Z",
     "iopub.status.idle": "2024-09-18T23:52:53.690143Z",
     "shell.execute_reply": "2024-09-18T23:52:53.688969Z"
    },
    "id": "NOLpIF92RTZT",
    "outputId": "fd6cf67b-6873-4a9c-d6d4-169784e30a24",
    "papermill": {
     "duration": 0.049976,
     "end_time": "2024-09-18T23:52:53.692682",
     "exception": false,
     "start_time": "2024-09-18T23:52:53.642706",
     "status": "completed"
    },
    "tags": []
   },
   "outputs": [
    {
     "data": {
      "text/html": [
       "<div>\n",
       "<style scoped>\n",
       "    .dataframe tbody tr th:only-of-type {\n",
       "        vertical-align: middle;\n",
       "    }\n",
       "\n",
       "    .dataframe tbody tr th {\n",
       "        vertical-align: top;\n",
       "    }\n",
       "\n",
       "    .dataframe thead th {\n",
       "        text-align: right;\n",
       "    }\n",
       "</style>\n",
       "<table border=\"1\" class=\"dataframe\">\n",
       "  <thead>\n",
       "    <tr style=\"text-align: right;\">\n",
       "      <th></th>\n",
       "      <th>Open time</th>\n",
       "      <th>Open</th>\n",
       "      <th>High</th>\n",
       "      <th>Low</th>\n",
       "      <th>Close</th>\n",
       "      <th>Volume</th>\n",
       "      <th>Close time</th>\n",
       "      <th>Quote asset volume</th>\n",
       "      <th>Number of trades</th>\n",
       "      <th>Taker buy base asset volume</th>\n",
       "      <th>Taker buy quote asset volume</th>\n",
       "      <th>Ignore</th>\n",
       "    </tr>\n",
       "  </thead>\n",
       "  <tbody>\n",
       "    <tr>\n",
       "      <th>0</th>\n",
       "      <td>2021-07-20 21:30:00</td>\n",
       "      <td>29646.27</td>\n",
       "      <td>29714.75</td>\n",
       "      <td>29590.00</td>\n",
       "      <td>29677.00</td>\n",
       "      <td>374.191701</td>\n",
       "      <td>2021-07-20 21:44:59.999</td>\n",
       "      <td>1.109716e+07</td>\n",
       "      <td>7386</td>\n",
       "      <td>229.157850</td>\n",
       "      <td>6.798040e+06</td>\n",
       "      <td>0</td>\n",
       "    </tr>\n",
       "    <tr>\n",
       "      <th>1</th>\n",
       "      <td>2021-07-20 21:45:00</td>\n",
       "      <td>29676.99</td>\n",
       "      <td>29763.56</td>\n",
       "      <td>29671.93</td>\n",
       "      <td>29685.98</td>\n",
       "      <td>219.142270</td>\n",
       "      <td>2021-07-20 21:59:59.999</td>\n",
       "      <td>6.511299e+06</td>\n",
       "      <td>5362</td>\n",
       "      <td>94.514854</td>\n",
       "      <td>2.808448e+06</td>\n",
       "      <td>0</td>\n",
       "    </tr>\n",
       "    <tr>\n",
       "      <th>2</th>\n",
       "      <td>2021-07-20 22:00:00</td>\n",
       "      <td>29685.97</td>\n",
       "      <td>29761.98</td>\n",
       "      <td>29626.10</td>\n",
       "      <td>29636.78</td>\n",
       "      <td>313.014265</td>\n",
       "      <td>2021-07-20 22:14:59.999</td>\n",
       "      <td>9.290695e+06</td>\n",
       "      <td>6017</td>\n",
       "      <td>138.986200</td>\n",
       "      <td>4.124768e+06</td>\n",
       "      <td>0</td>\n",
       "    </tr>\n",
       "    <tr>\n",
       "      <th>3</th>\n",
       "      <td>2021-07-20 22:15:00</td>\n",
       "      <td>29636.78</td>\n",
       "      <td>29692.18</td>\n",
       "      <td>29635.67</td>\n",
       "      <td>29661.30</td>\n",
       "      <td>196.890952</td>\n",
       "      <td>2021-07-20 22:29:59.999</td>\n",
       "      <td>5.840981e+06</td>\n",
       "      <td>4734</td>\n",
       "      <td>109.941584</td>\n",
       "      <td>3.261553e+06</td>\n",
       "      <td>0</td>\n",
       "    </tr>\n",
       "    <tr>\n",
       "      <th>4</th>\n",
       "      <td>2021-07-20 22:30:00</td>\n",
       "      <td>29661.30</td>\n",
       "      <td>29679.71</td>\n",
       "      <td>29565.56</td>\n",
       "      <td>29580.06</td>\n",
       "      <td>397.690162</td>\n",
       "      <td>2021-07-20 22:44:59.999</td>\n",
       "      <td>1.177565e+07</td>\n",
       "      <td>6944</td>\n",
       "      <td>206.482790</td>\n",
       "      <td>6.113650e+06</td>\n",
       "      <td>0</td>\n",
       "    </tr>\n",
       "  </tbody>\n",
       "</table>\n",
       "</div>"
      ],
      "text/plain": [
       "             Open time      Open      High       Low     Close      Volume  \\\n",
       "0  2021-07-20 21:30:00  29646.27  29714.75  29590.00  29677.00  374.191701   \n",
       "1  2021-07-20 21:45:00  29676.99  29763.56  29671.93  29685.98  219.142270   \n",
       "2  2021-07-20 22:00:00  29685.97  29761.98  29626.10  29636.78  313.014265   \n",
       "3  2021-07-20 22:15:00  29636.78  29692.18  29635.67  29661.30  196.890952   \n",
       "4  2021-07-20 22:30:00  29661.30  29679.71  29565.56  29580.06  397.690162   \n",
       "\n",
       "                Close time  Quote asset volume  Number of trades  \\\n",
       "0  2021-07-20 21:44:59.999        1.109716e+07              7386   \n",
       "1  2021-07-20 21:59:59.999        6.511299e+06              5362   \n",
       "2  2021-07-20 22:14:59.999        9.290695e+06              6017   \n",
       "3  2021-07-20 22:29:59.999        5.840981e+06              4734   \n",
       "4  2021-07-20 22:44:59.999        1.177565e+07              6944   \n",
       "\n",
       "   Taker buy base asset volume  Taker buy quote asset volume  Ignore  \n",
       "0                   229.157850                  6.798040e+06       0  \n",
       "1                    94.514854                  2.808448e+06       0  \n",
       "2                   138.986200                  4.124768e+06       0  \n",
       "3                   109.941584                  3.261553e+06       0  \n",
       "4                   206.482790                  6.113650e+06       0  "
      ]
     },
     "execution_count": 4,
     "metadata": {},
     "output_type": "execute_result"
    }
   ],
   "source": [
    "df.head() #verinin satırlarını görmek istiyorum fakat içi boş olduğu için sadece ilk 5 satırını"
   ]
  },
  {
   "cell_type": "code",
   "execution_count": 5,
   "id": "5ddff851",
   "metadata": {
    "execution": {
     "iopub.execute_input": "2024-09-18T23:52:53.723768Z",
     "iopub.status.busy": "2024-09-18T23:52:53.722766Z",
     "iopub.status.idle": "2024-09-18T23:52:53.762336Z",
     "shell.execute_reply": "2024-09-18T23:52:53.761199Z"
    },
    "id": "6mRIYMPgRTZU",
    "outputId": "46bf9c66-dddf-4261-9980-21b9cae45b92",
    "papermill": {
     "duration": 0.057877,
     "end_time": "2024-09-18T23:52:53.764957",
     "exception": false,
     "start_time": "2024-09-18T23:52:53.707080",
     "status": "completed"
    },
    "tags": []
   },
   "outputs": [
    {
     "name": "stdout",
     "output_type": "stream",
     "text": [
      "<class 'pandas.core.frame.DataFrame'>\n",
      "RangeIndex: 110000 entries, 0 to 109999\n",
      "Data columns (total 12 columns):\n",
      " #   Column                        Non-Null Count   Dtype  \n",
      "---  ------                        --------------   -----  \n",
      " 0   Open time                     110000 non-null  object \n",
      " 1   Open                          110000 non-null  float64\n",
      " 2   High                          110000 non-null  float64\n",
      " 3   Low                           110000 non-null  float64\n",
      " 4   Close                         110000 non-null  float64\n",
      " 5   Volume                        110000 non-null  float64\n",
      " 6   Close time                    110000 non-null  object \n",
      " 7   Quote asset volume            110000 non-null  float64\n",
      " 8   Number of trades              110000 non-null  int64  \n",
      " 9   Taker buy base asset volume   110000 non-null  float64\n",
      " 10  Taker buy quote asset volume  110000 non-null  float64\n",
      " 11  Ignore                        110000 non-null  int64  \n",
      "dtypes: float64(8), int64(2), object(2)\n",
      "memory usage: 10.1+ MB\n"
     ]
    }
   ],
   "source": [
    "df.info() # genel olarak bütün bilgilere ulaşmak istiyorum"
   ]
  },
  {
   "cell_type": "code",
   "execution_count": 6,
   "id": "0e3f25c5",
   "metadata": {
    "execution": {
     "iopub.execute_input": "2024-09-18T23:52:53.795942Z",
     "iopub.status.busy": "2024-09-18T23:52:53.794899Z",
     "iopub.status.idle": "2024-09-18T23:52:53.817227Z",
     "shell.execute_reply": "2024-09-18T23:52:53.816099Z"
    },
    "id": "YF4Kz86pRTZU",
    "outputId": "b331203b-e181-44dc-cab3-b91c226f1873",
    "papermill": {
     "duration": 0.040164,
     "end_time": "2024-09-18T23:52:53.819595",
     "exception": false,
     "start_time": "2024-09-18T23:52:53.779431",
     "status": "completed"
    },
    "tags": []
   },
   "outputs": [
    {
     "data": {
      "text/plain": [
       "Open time                       0\n",
       "Open                            0\n",
       "High                            0\n",
       "Low                             0\n",
       "Close                           0\n",
       "Volume                          0\n",
       "Close time                      0\n",
       "Quote asset volume              0\n",
       "Number of trades                0\n",
       "Taker buy base asset volume     0\n",
       "Taker buy quote asset volume    0\n",
       "Ignore                          0\n",
       "dtype: int64"
      ]
     },
     "execution_count": 6,
     "metadata": {},
     "output_type": "execute_result"
    }
   ],
   "source": [
    "df.isnull().sum() #eksik verileri kontrol etmek istiyorum"
   ]
  },
  {
   "cell_type": "code",
   "execution_count": 7,
   "id": "330abcd3",
   "metadata": {
    "execution": {
     "iopub.execute_input": "2024-09-18T23:52:53.852894Z",
     "iopub.status.busy": "2024-09-18T23:52:53.852119Z",
     "iopub.status.idle": "2024-09-18T23:52:54.223621Z",
     "shell.execute_reply": "2024-09-18T23:52:54.222528Z"
    },
    "id": "lTivqDSJRTZV",
    "outputId": "564d5f4e-85df-4be9-e1f9-141b81ddd401",
    "papermill": {
     "duration": 0.39214,
     "end_time": "2024-09-18T23:52:54.226247",
     "exception": false,
     "start_time": "2024-09-18T23:52:53.834107",
     "status": "completed"
    },
    "tags": []
   },
   "outputs": [
    {
     "data": {
      "image/png": "[encoded data removed]",
      "text/plain": [
       "<Figure size 640x480 with 1 Axes>"
      ]
     },
     "metadata": {},
     "output_type": "display_data"
    }
   ],
   "source": [
    "df[\"Open\"].hist(bins=50) #Open sütununu histograma aktarıyorum\n",
    "plt.title('Açılış Fiyatlandırması')\n",
    "plt.xlabel('Fiyat') #X eksenine Fiyatları koyar\n",
    "plt.ylabel('Verilerin Sıklığı') #Bin olarak sıklık(örneğin 50 veri değil 50bin veride bir değişim gözleniyor.)\n",
    "plt.show()"
   ]
  },
  {
   "cell_type": "markdown",
   "id": "fe4ec811",
   "metadata": {
    "id": "aEjxRBTQRTZV",
    "papermill": {
     "duration": 0.014728,
     "end_time": "2024-09-18T23:52:54.256211",
     "exception": false,
     "start_time": "2024-09-18T23:52:54.241483",
     "status": "completed"
    },
    "tags": []
   },
   "source": [
    "Bu kod her 50 bin tane gelen veriye göre Bitcoin'in açılış fiyatlarının nasıl dağıldığını gösterir.(örneğin toplamda 200 tane veri 5000 civarında)"
   ]
  },
  {
   "cell_type": "code",
   "execution_count": 8,
   "id": "e24065ee",
   "metadata": {
    "execution": {
     "iopub.execute_input": "2024-09-18T23:52:54.287580Z",
     "iopub.status.busy": "2024-09-18T23:52:54.287174Z",
     "iopub.status.idle": "2024-09-18T23:52:55.585958Z",
     "shell.execute_reply": "2024-09-18T23:52:55.584794Z"
    },
    "id": "YX2oXUIVRTZV",
    "outputId": "53c7be25-f7e0-4a6b-a140-24d8985c11c1",
    "papermill": {
     "duration": 1.31782,
     "end_time": "2024-09-18T23:52:55.588758",
     "exception": false,
     "start_time": "2024-09-18T23:52:54.270938",
     "status": "completed"
    },
    "tags": []
   },
   "outputs": [
    {
     "data": {
      "image/png": "[encoded data removed]",
      "text/plain": [
       "<Figure size 1400x700 with 1 Axes>"
      ]
     },
     "metadata": {},
     "output_type": "display_data"
    }
   ],
   "source": [
    "# Zaman serisi verilerini DateTime formatına çevirme\n",
    "df['Open time'] = pd.to_datetime(df['Open time'])\n",
    "\n",
    "# Fiyatlar için çizgi grafikleri\n",
    "plt.figure(figsize=(14, 7))\n",
    "\n",
    "plt.subplot(2, 1, 1)\n",
    "plt.plot(df['Open time'], df['Open'], label='Open', color='blue')\n",
    "plt.plot(df['Open time'], df['High'], label='High', color='green')\n",
    "plt.plot(df['Open time'], df['Low'], label='Low', color='red')\n",
    "plt.plot(df['Open time'], df['Close'], label='Close', color='orange')\n",
    "plt.title('Fiyatların Zaman İçindeki Değişimi')\n",
    "plt.xlabel('Tarih')\n",
    "plt.ylabel('Fiyat')\n",
    "plt.legend()\n",
    "\n",
    "\n",
    "\n",
    "# Grafikleri göster\n",
    "plt.show()\n"
   ]
  },
  {
   "cell_type": "code",
   "execution_count": 9,
   "id": "d5acabb4",
   "metadata": {
    "execution": {
     "iopub.execute_input": "2024-09-18T23:52:55.623780Z",
     "iopub.status.busy": "2024-09-18T23:52:55.622829Z",
     "iopub.status.idle": "2024-09-18T23:52:56.824119Z",
     "shell.execute_reply": "2024-09-18T23:52:56.822502Z"
    },
    "id": "LGn4lGMYRTZV",
    "outputId": "965317b2-a9d6-4f69-e87b-15481311bffd",
    "papermill": {
     "duration": 1.224073,
     "end_time": "2024-09-18T23:52:56.829230",
     "exception": false,
     "start_time": "2024-09-18T23:52:55.605157",
     "status": "completed"
    },
    "tags": []
   },
   "outputs": [
    {
     "data": {
      "image/png": "[encoded data removed]",
      "text/plain": [
       "<Figure size 1400x700 with 1 Axes>"
      ]
     },
     "metadata": {},
     "output_type": "display_data"
    }
   ],
   "source": [
    "# Tarih sütununu datetime formatına çevir\n",
    "df['Open time'] = pd.to_datetime(df['Open time'])\n",
    "\n",
    "# Hareketli Ortalamaları Hesapla\n",
    "df['SMA50'] = df['Close'].rolling(window=50).mean()  # 50 günlük hareketli ortalama\n",
    "df['SMA200'] = df['Close'].rolling(window=200).mean()  # 200 günlük hareketli ortalama\n",
    "\n",
    "# Alım Satım Sinyalleri Üretme\n",
    "df['Signal'] = 0.0\n",
    "df['Signal'][50:] = np.where(df['SMA50'][50:] > df['SMA200'][50:], 1.0, 0.0)  # 50 günlüğün 200 günlüğü geçip geçmediğini kontrol et\n",
    "df['Position'] = df['Signal'].diff()  # Pozisyon değişikliklerini bul\n",
    "\n",
    "# Grafikleri Görselleştirme\n",
    "plt.figure(figsize=(14, 7))\n",
    "\n",
    "# Fiyat grafiği\n",
    "plt.plot(df['Open time'], df['Close'], label='Bitcoin Fiyatı', color='blue', alpha=0.5)\n",
    "plt.plot(df['Open time'], df['SMA50'], label='50 Günlük SMA', color='orange', linestyle='--')\n",
    "plt.plot(df['Open time'], df['SMA200'], label='200 Günlük SMA', color='green', linestyle='--')\n",
    "\n",
    "# Alım noktalarını göster (SMA50 > SMA200)\n",
    "plt.plot(df[df['Position'] == 1]['Open time'], df['SMA50'][df['Position'] == 1], '^', markersize=10, color='g', lw=0, label='Alım Sinyali')\n",
    "\n",
    "# Satım noktalarını göster (SMA50 < SMA200)\n",
    "plt.plot(df[df['Position'] == -1]['Open time'], df['SMA50'][df['Position'] == -1], 'v', markersize=10, color='r', lw=0, label='Satım Sinyali')\n",
    "\n",
    "plt.title('Bitcoin Fiyatı ve Hareketli Ortalamalar')\n",
    "plt.xlabel('Tarih')\n",
    "plt.ylabel('Fiyat')\n",
    "plt.legend()\n",
    "plt.xticks(rotation=45)  # X eksenindeki tarihleri daha düzgün göstermek için\n",
    "plt.tight_layout()  # Grafik elemanlarının yerleşimini düzenlemek için\n",
    "plt.show()\n"
   ]
  },
  {
   "cell_type": "markdown",
   "id": "eb45e3a8",
   "metadata": {
    "id": "Wy-RkHEkRTZW",
    "papermill": {
     "duration": 0.022091,
     "end_time": "2024-09-18T23:52:56.872133",
     "exception": false,
     "start_time": "2024-09-18T23:52:56.850042",
     "status": "completed"
    },
    "tags": []
   },
   "source": [
    "**İlk olarak SMA'nın anlamı şudur: Bir finansal veri setinde fiyatların belirli bir sürede(en çok tercih edilenler: 10,20,50,100 veya 200 gündür.) ortalamasını hesaplayan bir gösterge türüdür.**"
   ]
  },
  {
   "cell_type": "markdown",
   "id": "6b81150b",
   "metadata": {
    "id": "5LJnbJYFRTZW",
    "papermill": {
     "duration": 0.017843,
     "end_time": "2024-09-18T23:52:56.911384",
     "exception": false,
     "start_time": "2024-09-18T23:52:56.893541",
     "status": "completed"
    },
    "tags": []
   },
   "source": [
    "Burada yeni öğrendiğim hesaplama türü MACD yi kullanıyorum yapay zekadan yardım alarak MACD'yi hesaplıyorum kodumuzun çalışma mantığı şöyle 50 günlük SMA'nın 200 günlük SMA'dan fazla olmaya başladığı zaman bitcoin yükselecek anlamına geliyor. Azalma mantığıda tam tersi şeklinde. Turuncu çizgi grafiği 50 günlük SMA'ları, yeşil ise 200 günlük SMA'ları temsil ediyor."
   ]
  },
  {
   "cell_type": "markdown",
   "id": "026f6569",
   "metadata": {
    "id": "zqHX1o7ORTZW",
    "papermill": {
     "duration": 0.019218,
     "end_time": "2024-09-18T23:52:56.948992",
     "exception": false,
     "start_time": "2024-09-18T23:52:56.929774",
     "status": "completed"
    },
    "tags": []
   },
   "source": [
    "# VERİ ÖN İŞLEME\n"
   ]
  },
  {
   "cell_type": "code",
   "execution_count": 10,
   "id": "64a9cfcc",
   "metadata": {
    "execution": {
     "iopub.execute_input": "2024-09-18T23:52:57.001337Z",
     "iopub.status.busy": "2024-09-18T23:52:57.000840Z",
     "iopub.status.idle": "2024-09-18T23:52:57.297580Z",
     "shell.execute_reply": "2024-09-18T23:52:57.296058Z"
    },
    "id": "GhqLo2fuRTZW",
    "papermill": {
     "duration": 0.324761,
     "end_time": "2024-09-18T23:52:57.300331",
     "exception": false,
     "start_time": "2024-09-18T23:52:56.975570",
     "status": "completed"
    },
    "tags": []
   },
   "outputs": [],
   "source": [
    "from sklearn.preprocessing import StandardScaler\n",
    "from sklearn.model_selection import train_test_split"
   ]
  },
  {
   "cell_type": "code",
   "execution_count": 11,
   "id": "61a084b7",
   "metadata": {
    "execution": {
     "iopub.execute_input": "2024-09-18T23:52:57.338533Z",
     "iopub.status.busy": "2024-09-18T23:52:57.338137Z",
     "iopub.status.idle": "2024-09-18T23:52:57.372613Z",
     "shell.execute_reply": "2024-09-18T23:52:57.371477Z"
    },
    "id": "r_Plht2gRTZW",
    "papermill": {
     "duration": 0.05638,
     "end_time": "2024-09-18T23:52:57.375164",
     "exception": false,
     "start_time": "2024-09-18T23:52:57.318784",
     "status": "completed"
    },
    "tags": []
   },
   "outputs": [],
   "source": [
    "df.dropna(inplace=True) #eksik değerleri temizlemek istiyorum\n",
    "df.drop(['Open time','Close time','SMA50','SMA200','Ignore','Signal','Position'], axis=1, inplace=True) #Grafik için gerekli fakat skor hesaplama olarak başarı düşüren verileri temizlemek istiyorum"
   ]
  },
  {
   "cell_type": "code",
   "execution_count": 12,
   "id": "89b974a1",
   "metadata": {
    "execution": {
     "iopub.execute_input": "2024-09-18T23:52:57.413131Z",
     "iopub.status.busy": "2024-09-18T23:52:57.412715Z",
     "iopub.status.idle": "2024-09-18T23:52:57.420268Z",
     "shell.execute_reply": "2024-09-18T23:52:57.419080Z"
    },
    "id": "_BaCQP8vRTZW",
    "outputId": "b6260dbd-af3e-479e-cbd6-a802fa2b7596",
    "papermill": {
     "duration": 0.029576,
     "end_time": "2024-09-18T23:52:57.422767",
     "exception": false,
     "start_time": "2024-09-18T23:52:57.393191",
     "status": "completed"
    },
    "tags": []
   },
   "outputs": [
    {
     "data": {
      "text/plain": [
       "Index(['Open', 'High', 'Low', 'Close', 'Volume', 'Quote asset volume',\n",
       "       'Number of trades', 'Taker buy base asset volume',\n",
       "       'Taker buy quote asset volume'],\n",
       "      dtype='object')"
      ]
     },
     "execution_count": 12,
     "metadata": {},
     "output_type": "execute_result"
    }
   ],
   "source": [
    "df.columns #silinip silinmediğini kontrol ediyorum"
   ]
  },
  {
   "cell_type": "code",
   "execution_count": 13,
   "id": "2135700b",
   "metadata": {
    "execution": {
     "iopub.execute_input": "2024-09-18T23:52:57.462249Z",
     "iopub.status.busy": "2024-09-18T23:52:57.461805Z",
     "iopub.status.idle": "2024-09-18T23:52:57.498726Z",
     "shell.execute_reply": "2024-09-18T23:52:57.497464Z"
    },
    "id": "wJTbdN8GRTZW",
    "papermill": {
     "duration": 0.059834,
     "end_time": "2024-09-18T23:52:57.501294",
     "exception": false,
     "start_time": "2024-09-18T23:52:57.441460",
     "status": "completed"
    },
    "tags": []
   },
   "outputs": [],
   "source": [
    "Özellikler =['Open','High','Low','Volume','Quote asset volume','Number of trades','Taker buy base asset volume','Taker buy quote asset volume']\n",
    "scaler =StandardScaler()\n",
    "df[Özellikler]=scaler.fit_transform(df[Özellikler]) #normalleştirdim yani aşırı dengesiz olmasına karşın dengeledim."
   ]
  },
  {
   "cell_type": "code",
   "execution_count": 14,
   "id": "9b682292",
   "metadata": {
    "execution": {
     "iopub.execute_input": "2024-09-18T23:52:57.539940Z",
     "iopub.status.busy": "2024-09-18T23:52:57.539506Z",
     "iopub.status.idle": "2024-09-18T23:52:57.547397Z",
     "shell.execute_reply": "2024-09-18T23:52:57.546020Z"
    },
    "id": "VZ_NOqLgRTZW",
    "papermill": {
     "duration": 0.030372,
     "end_time": "2024-09-18T23:52:57.549940",
     "exception": false,
     "start_time": "2024-09-18T23:52:57.519568",
     "status": "completed"
    },
    "tags": []
   },
   "outputs": [],
   "source": [
    "df['Hedef_deger']= (df['Close'].shift(-1)>df['Close']).astype(int)\n",
    "#Kapanış fiyatı bir önceki güne göre yüksekse 1, değilse 0 olarak etiketle"
   ]
  },
  {
   "cell_type": "code",
   "execution_count": 15,
   "id": "5d9c911c",
   "metadata": {
    "execution": {
     "iopub.execute_input": "2024-09-18T23:52:57.589451Z",
     "iopub.status.busy": "2024-09-18T23:52:57.589017Z",
     "iopub.status.idle": "2024-09-18T23:52:57.599438Z",
     "shell.execute_reply": "2024-09-18T23:52:57.598308Z"
    },
    "id": "WkNfu2hTRTZX",
    "papermill": {
     "duration": 0.034256,
     "end_time": "2024-09-18T23:52:57.602671",
     "exception": false,
     "start_time": "2024-09-18T23:52:57.568415",
     "status": "completed"
    },
    "tags": []
   },
   "outputs": [],
   "source": [
    "X=df.drop(['Hedef_deger'],axis=1) #Hedef değer ve diğer sütunlar birbirlerinden ayrılıyor\n",
    "y=df['Hedef_deger']"
   ]
  },
  {
   "cell_type": "markdown",
   "id": "4204db4c",
   "metadata": {
    "id": "oSq9F4WvRTZX",
    "papermill": {
     "duration": 0.021047,
     "end_time": "2024-09-18T23:52:57.644714",
     "exception": false,
     "start_time": "2024-09-18T23:52:57.623667",
     "status": "completed"
    },
    "tags": []
   },
   "source": [
    "Veri ön işleme kısmı bu şekilde bitmiş oluyor"
   ]
  },
  {
   "cell_type": "markdown",
   "id": "cccdf978",
   "metadata": {
    "id": "Vg1OZ_9zRTZX",
    "papermill": {
     "duration": 0.020646,
     "end_time": "2024-09-18T23:52:57.684726",
     "exception": false,
     "start_time": "2024-09-18T23:52:57.664080",
     "status": "completed"
    },
    "tags": []
   },
   "source": [
    "# ALGORİTMA SEÇİMİ & HİPERPARAMETRE OPTİMİZASYONU"
   ]
  },
  {
   "cell_type": "markdown",
   "id": "62229ad9",
   "metadata": {
    "id": "foWlPgbaRTZX",
    "papermill": {
     "duration": 0.017709,
     "end_time": "2024-09-18T23:52:57.721963",
     "exception": false,
     "start_time": "2024-09-18T23:52:57.704254",
     "status": "completed"
    },
    "tags": []
   },
   "source": [
    "# * GÖZETİMLİ ÖĞRENME"
   ]
  },
  {
   "cell_type": "code",
   "execution_count": 16,
   "id": "2f447b7e",
   "metadata": {
    "execution": {
     "iopub.execute_input": "2024-09-18T23:52:57.759943Z",
     "iopub.status.busy": "2024-09-18T23:52:57.759529Z",
     "iopub.status.idle": "2024-09-18T23:52:58.040979Z",
     "shell.execute_reply": "2024-09-18T23:52:58.039823Z"
    },
    "id": "o4P9CMFiRTZX",
    "papermill": {
     "duration": 0.303715,
     "end_time": "2024-09-18T23:52:58.043819",
     "exception": false,
     "start_time": "2024-09-18T23:52:57.740104",
     "status": "completed"
    },
    "tags": []
   },
   "outputs": [],
   "source": [
    "from sklearn.ensemble import RandomForestClassifier\n",
    "from sklearn.linear_model import LinearRegression\n",
    "from sklearn.pipeline import Pipeline\n",
    "from sklearn.metrics import mean_squared_error\n",
    "from sklearn.ensemble import RandomForestRegressor"
   ]
  },
  {
   "cell_type": "code",
   "execution_count": 17,
   "id": "3a9699f5",
   "metadata": {
    "execution": {
     "iopub.execute_input": "2024-09-18T23:52:58.081948Z",
     "iopub.status.busy": "2024-09-18T23:52:58.081566Z",
     "iopub.status.idle": "2024-09-18T23:52:58.115573Z",
     "shell.execute_reply": "2024-09-18T23:52:58.114330Z"
    },
    "id": "0GdFCFDIRTZX",
    "papermill": {
     "duration": 0.056156,
     "end_time": "2024-09-18T23:52:58.118241",
     "exception": false,
     "start_time": "2024-09-18T23:52:58.062085",
     "status": "completed"
    },
    "tags": []
   },
   "outputs": [],
   "source": [
    "X_train,X_test,y_train,y_test=train_test_split(X,y,test_size=0.2,random_state=42)"
   ]
  },
  {
   "cell_type": "code",
   "execution_count": 18,
   "id": "548eea98",
   "metadata": {
    "execution": {
     "iopub.execute_input": "2024-09-18T23:52:58.156447Z",
     "iopub.status.busy": "2024-09-18T23:52:58.155977Z",
     "iopub.status.idle": "2024-09-18T23:52:58.161480Z",
     "shell.execute_reply": "2024-09-18T23:52:58.160357Z"
    },
    "id": "pPq8eQfWRTZX",
    "papermill": {
     "duration": 0.027427,
     "end_time": "2024-09-18T23:52:58.163870",
     "exception": false,
     "start_time": "2024-09-18T23:52:58.136443",
     "status": "completed"
    },
    "tags": []
   },
   "outputs": [],
   "source": [
    "model_pipeline=Pipeline([\n",
    "    ('scaler',StandardScaler()),\n",
    "    ('model', LinearRegression())\n",
    "]) # Linear regresyonlu Pipeline kuruyorum"
   ]
  },
  {
   "cell_type": "code",
   "execution_count": 19,
   "id": "470df74c",
   "metadata": {
    "execution": {
     "iopub.execute_input": "2024-09-18T23:52:58.202679Z",
     "iopub.status.busy": "2024-09-18T23:52:58.201655Z",
     "iopub.status.idle": "2024-09-18T23:52:58.290322Z",
     "shell.execute_reply": "2024-09-18T23:52:58.289097Z"
    },
    "id": "-F-H3SHwRTZX",
    "outputId": "25106f72-3ede-4256-a93c-eb652b9135b4",
    "papermill": {
     "duration": 0.110763,
     "end_time": "2024-09-18T23:52:58.292868",
     "exception": false,
     "start_time": "2024-09-18T23:52:58.182105",
     "status": "completed"
    },
    "tags": []
   },
   "outputs": [
    {
     "data": {
      "text/html": [
       "<style>#sk-container-id-1 {color: black;background-color: white;}#sk-container-id-1 pre{padding: 0;}#sk-container-id-1 div.sk-toggleable {background-color: white;}#sk-container-id-1 label.sk-toggleable__label {cursor: pointer;display: block;width: 100%;margin-bottom: 0;padding: 0.3em;box-sizing: border-box;text-align: center;}#sk-container-id-1 label.sk-toggleable__label-arrow:before {content: \"▸\";float: left;margin-right: 0.25em;color: #696969;}#sk-container-id-1 label.sk-toggleable__label-arrow:hover:before {color: black;}#sk-container-id-1 div.sk-estimator:hover label.sk-toggleable__label-arrow:before {color: black;}#sk-container-id-1 div.sk-toggleable__content {max-height: 0;max-width: 0;overflow: hidden;text-align: left;background-color: #f0f8ff;}#sk-container-id-1 div.sk-toggleable__content pre {margin: 0.2em;color: black;border-radius: 0.25em;background-color: #f0f8ff;}#sk-container-id-1 input.sk-toggleable__control:checked~div.sk-toggleable__content {max-height: 200px;max-width: 100%;overflow: auto;}#sk-container-id-1 input.sk-toggleable__control:checked~label.sk-toggleable__label-arrow:before {content: \"▾\";}#sk-container-id-1 div.sk-estimator input.sk-toggleable__control:checked~label.sk-toggleable__label {background-color: #d4ebff;}#sk-container-id-1 div.sk-label input.sk-toggleable__control:checked~label.sk-toggleable__label {background-color: #d4ebff;}#sk-container-id-1 input.sk-hidden--visually {border: 0;clip: rect(1px 1px 1px 1px);clip: rect(1px, 1px, 1px, 1px);height: 1px;margin: -1px;overflow: hidden;padding: 0;position: absolute;width: 1px;}#sk-container-id-1 div.sk-estimator {font-family: monospace;background-color: #f0f8ff;border: 1px dotted black;border-radius: 0.25em;box-sizing: border-box;margin-bottom: 0.5em;}#sk-container-id-1 div.sk-estimator:hover {background-color: #d4ebff;}#sk-container-id-1 div.sk-parallel-item::after {content: \"\";width: 100%;border-bottom: 1px solid gray;flex-grow: 1;}#sk-container-id-1 div.sk-label:hover label.sk-toggleable__label {background-color: #d4ebff;}#sk-container-id-1 div.sk-serial::before {content: \"\";position: absolute;border-left: 1px solid gray;box-sizing: border-box;top: 0;bottom: 0;left: 50%;z-index: 0;}#sk-container-id-1 div.sk-serial {display: flex;flex-direction: column;align-items: center;background-color: white;padding-right: 0.2em;padding-left: 0.2em;position: relative;}#sk-container-id-1 div.sk-item {position: relative;z-index: 1;}#sk-container-id-1 div.sk-parallel {display: flex;align-items: stretch;justify-content: center;background-color: white;position: relative;}#sk-container-id-1 div.sk-item::before, #sk-container-id-1 div.sk-parallel-item::before {content: \"\";position: absolute;border-left: 1px solid gray;box-sizing: border-box;top: 0;bottom: 0;left: 50%;z-index: -1;}#sk-container-id-1 div.sk-parallel-item {display: flex;flex-direction: column;z-index: 1;position: relative;background-color: white;}#sk-container-id-1 div.sk-parallel-item:first-child::after {align-self: flex-end;width: 50%;}#sk-container-id-1 div.sk-parallel-item:last-child::after {align-self: flex-start;width: 50%;}#sk-container-id-1 div.sk-parallel-item:only-child::after {width: 0;}#sk-container-id-1 div.sk-dashed-wrapped {border: 1px dashed gray;margin: 0 0.4em 0.5em 0.4em;box-sizing: border-box;padding-bottom: 0.4em;background-color: white;}#sk-container-id-1 div.sk-label label {font-family: monospace;font-weight: bold;display: inline-block;line-height: 1.2em;}#sk-container-id-1 div.sk-label-container {text-align: center;}#sk-container-id-1 div.sk-container {/* jupyter's `normalize.less` sets `[hidden] { display: none; }` but bootstrap.min.css set `[hidden] { display: none !important; }` so we also need the `!important` here to be able to override the default hidden behavior on the sphinx rendered scikit-learn.org. See: https://github.com/scikit-learn/scikit-learn/issues/21755 */display: inline-block !important;position: relative;}#sk-container-id-1 div.sk-text-repr-fallback {display: none;}</style><div id=\"sk-container-id-1\" class=\"sk-top-container\"><div class=\"sk-text-repr-fallback\"><pre>Pipeline(steps=[(&#x27;scaler&#x27;, StandardScaler()), (&#x27;model&#x27;, LinearRegression())])</pre><b>In a Jupyter environment, please rerun this cell to show the HTML representation or trust the notebook. <br />On GitHub, the HTML representation is unable to render, please try loading this page with nbviewer.org.</b></div><div class=\"sk-container\" hidden><div class=\"sk-item sk-dashed-wrapped\"><div class=\"sk-label-container\"><div class=\"sk-label sk-toggleable\"><input class=\"sk-toggleable__control sk-hidden--visually\" id=\"sk-estimator-id-1\" type=\"checkbox\" ><label for=\"sk-estimator-id-1\" class=\"sk-toggleable__label sk-toggleable__label-arrow\">Pipeline</label><div class=\"sk-toggleable__content\"><pre>Pipeline(steps=[(&#x27;scaler&#x27;, StandardScaler()), (&#x27;model&#x27;, LinearRegression())])</pre></div></div></div><div class=\"sk-serial\"><div class=\"sk-item\"><div class=\"sk-estimator sk-toggleable\"><input class=\"sk-toggleable__control sk-hidden--visually\" id=\"sk-estimator-id-2\" type=\"checkbox\" ><label for=\"sk-estimator-id-2\" class=\"sk-toggleable__label sk-toggleable__label-arrow\">StandardScaler</label><div class=\"sk-toggleable__content\"><pre>StandardScaler()</pre></div></div></div><div class=\"sk-item\"><div class=\"sk-estimator sk-toggleable\"><input class=\"sk-toggleable__control sk-hidden--visually\" id=\"sk-estimator-id-3\" type=\"checkbox\" ><label for=\"sk-estimator-id-3\" class=\"sk-toggleable__label sk-toggleable__label-arrow\">LinearRegression</label><div class=\"sk-toggleable__content\"><pre>LinearRegression()</pre></div></div></div></div></div></div></div>"
      ],
      "text/plain": [
       "Pipeline(steps=[('scaler', StandardScaler()), ('model', LinearRegression())])"
      ]
     },
     "execution_count": 19,
     "metadata": {},
     "output_type": "execute_result"
    }
   ],
   "source": [
    "model_pipeline.fit(X_train,y_train)"
   ]
  },
  {
   "cell_type": "code",
   "execution_count": 20,
   "id": "79279512",
   "metadata": {
    "execution": {
     "iopub.execute_input": "2024-09-18T23:52:58.332727Z",
     "iopub.status.busy": "2024-09-18T23:52:58.332204Z",
     "iopub.status.idle": "2024-09-18T23:52:58.352976Z",
     "shell.execute_reply": "2024-09-18T23:52:58.351775Z"
    },
    "id": "sPMVzw8yRTZX",
    "papermill": {
     "duration": 0.044414,
     "end_time": "2024-09-18T23:52:58.356658",
     "exception": false,
     "start_time": "2024-09-18T23:52:58.312244",
     "status": "completed"
    },
    "tags": []
   },
   "outputs": [],
   "source": [
    "y_predLinear = model_pipeline.predict(X_test) #Linear regresyonlu pipeline'ı tahmin için predict metodunu uyguluyorum"
   ]
  },
  {
   "cell_type": "code",
   "execution_count": 21,
   "id": "ff76f1bd",
   "metadata": {
    "execution": {
     "iopub.execute_input": "2024-09-18T23:52:58.440540Z",
     "iopub.status.busy": "2024-09-18T23:52:58.439947Z",
     "iopub.status.idle": "2024-09-18T23:52:58.450680Z",
     "shell.execute_reply": "2024-09-18T23:52:58.449437Z"
    },
    "id": "Gc9dktwxRTZX",
    "outputId": "6796afa6-764f-4f15-8869-7a9c03587aab",
    "papermill": {
     "duration": 0.047261,
     "end_time": "2024-09-18T23:52:58.453801",
     "exception": false,
     "start_time": "2024-09-18T23:52:58.406540",
     "status": "completed"
    },
    "tags": []
   },
   "outputs": [
    {
     "data": {
      "text/plain": [
       "0.24928172415076252"
      ]
     },
     "execution_count": 21,
     "metadata": {},
     "output_type": "execute_result"
    }
   ],
   "source": [
    "msePipeline = mean_squared_error(y_test,y_predLinear) #Linear Regresyonlu pipeline'ı means squared error ile çalıştırıyorum\n",
    "msePipeline"
   ]
  },
  {
   "cell_type": "markdown",
   "id": "ce77fe28",
   "metadata": {
    "id": "wMGn2IayRTZY",
    "papermill": {
     "duration": 0.018537,
     "end_time": "2024-09-18T23:52:58.495963",
     "exception": false,
     "start_time": "2024-09-18T23:52:58.477426",
     "status": "completed"
    },
    "tags": []
   },
   "source": [
    "Burada görüldüğü gibi Linear regresyonlu Pipeline'ın mean squared error skoru 25 dir\n"
   ]
  },
  {
   "cell_type": "code",
   "execution_count": 22,
   "id": "79804e24",
   "metadata": {
    "execution": {
     "iopub.execute_input": "2024-09-18T23:52:58.535170Z",
     "iopub.status.busy": "2024-09-18T23:52:58.534754Z",
     "iopub.status.idle": "2024-09-18T23:52:58.540725Z",
     "shell.execute_reply": "2024-09-18T23:52:58.539452Z"
    },
    "id": "ObqJdGewRTZY",
    "papermill": {
     "duration": 0.029147,
     "end_time": "2024-09-18T23:52:58.543644",
     "exception": false,
     "start_time": "2024-09-18T23:52:58.514497",
     "status": "completed"
    },
    "tags": []
   },
   "outputs": [],
   "source": [
    "model_pipelineRFR=Pipeline([\n",
    "    ('scaler',StandardScaler()),\n",
    "    ('model', RandomForestRegressor(n_estimators=50, n_jobs=-1))#RFR büyük veri setlerinde çok yavaş çalıştığı için estimators varsayılanı 100 iken 50 yapıyorum ve işlemcinin bütün gücünü kullanmasına izin veriyorum\n",
    "])#Burada RandomForestRegressorlu pipeline kuruyorum"
   ]
  },
  {
   "cell_type": "code",
   "execution_count": 23,
   "id": "9186b433",
   "metadata": {
    "execution": {
     "iopub.execute_input": "2024-09-18T23:52:58.582298Z",
     "iopub.status.busy": "2024-09-18T23:52:58.581876Z",
     "iopub.status.idle": "2024-09-18T23:53:44.658464Z",
     "shell.execute_reply": "2024-09-18T23:53:44.657123Z"
    },
    "id": "JlqvKpntRTZY",
    "outputId": "86114ca8-b784-4661-f99d-d0279c98a01d",
    "papermill": {
     "duration": 46.118646,
     "end_time": "2024-09-18T23:53:44.680888",
     "exception": false,
     "start_time": "2024-09-18T23:52:58.562242",
     "status": "completed"
    },
    "tags": []
   },
   "outputs": [
    {
     "data": {
      "text/html": [
       "<style>#sk-container-id-2 {color: black;background-color: white;}#sk-container-id-2 pre{padding: 0;}#sk-container-id-2 div.sk-toggleable {background-color: white;}#sk-container-id-2 label.sk-toggleable__label {cursor: pointer;display: block;width: 100%;margin-bottom: 0;padding: 0.3em;box-sizing: border-box;text-align: center;}#sk-container-id-2 label.sk-toggleable__label-arrow:before {content: \"▸\";float: left;margin-right: 0.25em;color: #696969;}#sk-container-id-2 label.sk-toggleable__label-arrow:hover:before {color: black;}#sk-container-id-2 div.sk-estimator:hover label.sk-toggleable__label-arrow:before {color: black;}#sk-container-id-2 div.sk-toggleable__content {max-height: 0;max-width: 0;overflow: hidden;text-align: left;background-color: #f0f8ff;}#sk-container-id-2 div.sk-toggleable__content pre {margin: 0.2em;color: black;border-radius: 0.25em;background-color: #f0f8ff;}#sk-container-id-2 input.sk-toggleable__control:checked~div.sk-toggleable__content {max-height: 200px;max-width: 100%;overflow: auto;}#sk-container-id-2 input.sk-toggleable__control:checked~label.sk-toggleable__label-arrow:before {content: \"▾\";}#sk-container-id-2 div.sk-estimator input.sk-toggleable__control:checked~label.sk-toggleable__label {background-color: #d4ebff;}#sk-container-id-2 div.sk-label input.sk-toggleable__control:checked~label.sk-toggleable__label {background-color: #d4ebff;}#sk-container-id-2 input.sk-hidden--visually {border: 0;clip: rect(1px 1px 1px 1px);clip: rect(1px, 1px, 1px, 1px);height: 1px;margin: -1px;overflow: hidden;padding: 0;position: absolute;width: 1px;}#sk-container-id-2 div.sk-estimator {font-family: monospace;background-color: #f0f8ff;border: 1px dotted black;border-radius: 0.25em;box-sizing: border-box;margin-bottom: 0.5em;}#sk-container-id-2 div.sk-estimator:hover {background-color: #d4ebff;}#sk-container-id-2 div.sk-parallel-item::after {content: \"\";width: 100%;border-bottom: 1px solid gray;flex-grow: 1;}#sk-container-id-2 div.sk-label:hover label.sk-toggleable__label {background-color: #d4ebff;}#sk-container-id-2 div.sk-serial::before {content: \"\";position: absolute;border-left: 1px solid gray;box-sizing: border-box;top: 0;bottom: 0;left: 50%;z-index: 0;}#sk-container-id-2 div.sk-serial {display: flex;flex-direction: column;align-items: center;background-color: white;padding-right: 0.2em;padding-left: 0.2em;position: relative;}#sk-container-id-2 div.sk-item {position: relative;z-index: 1;}#sk-container-id-2 div.sk-parallel {display: flex;align-items: stretch;justify-content: center;background-color: white;position: relative;}#sk-container-id-2 div.sk-item::before, #sk-container-id-2 div.sk-parallel-item::before {content: \"\";position: absolute;border-left: 1px solid gray;box-sizing: border-box;top: 0;bottom: 0;left: 50%;z-index: -1;}#sk-container-id-2 div.sk-parallel-item {display: flex;flex-direction: column;z-index: 1;position: relative;background-color: white;}#sk-container-id-2 div.sk-parallel-item:first-child::after {align-self: flex-end;width: 50%;}#sk-container-id-2 div.sk-parallel-item:last-child::after {align-self: flex-start;width: 50%;}#sk-container-id-2 div.sk-parallel-item:only-child::after {width: 0;}#sk-container-id-2 div.sk-dashed-wrapped {border: 1px dashed gray;margin: 0 0.4em 0.5em 0.4em;box-sizing: border-box;padding-bottom: 0.4em;background-color: white;}#sk-container-id-2 div.sk-label label {font-family: monospace;font-weight: bold;display: inline-block;line-height: 1.2em;}#sk-container-id-2 div.sk-label-container {text-align: center;}#sk-container-id-2 div.sk-container {/* jupyter's `normalize.less` sets `[hidden] { display: none; }` but bootstrap.min.css set `[hidden] { display: none !important; }` so we also need the `!important` here to be able to override the default hidden behavior on the sphinx rendered scikit-learn.org. See: https://github.com/scikit-learn/scikit-learn/issues/21755 */display: inline-block !important;position: relative;}#sk-container-id-2 div.sk-text-repr-fallback {display: none;}</style><div id=\"sk-container-id-2\" class=\"sk-top-container\"><div class=\"sk-text-repr-fallback\"><pre>Pipeline(steps=[(&#x27;scaler&#x27;, StandardScaler()),\n",
       "                (&#x27;model&#x27;, RandomForestRegressor(n_estimators=50, n_jobs=-1))])</pre><b>In a Jupyter environment, please rerun this cell to show the HTML representation or trust the notebook. <br />On GitHub, the HTML representation is unable to render, please try loading this page with nbviewer.org.</b></div><div class=\"sk-container\" hidden><div class=\"sk-item sk-dashed-wrapped\"><div class=\"sk-label-container\"><div class=\"sk-label sk-toggleable\"><input class=\"sk-toggleable__control sk-hidden--visually\" id=\"sk-estimator-id-4\" type=\"checkbox\" ><label for=\"sk-estimator-id-4\" class=\"sk-toggleable__label sk-toggleable__label-arrow\">Pipeline</label><div class=\"sk-toggleable__content\"><pre>Pipeline(steps=[(&#x27;scaler&#x27;, StandardScaler()),\n",
       "                (&#x27;model&#x27;, RandomForestRegressor(n_estimators=50, n_jobs=-1))])</pre></div></div></div><div class=\"sk-serial\"><div class=\"sk-item\"><div class=\"sk-estimator sk-toggleable\"><input class=\"sk-toggleable__control sk-hidden--visually\" id=\"sk-estimator-id-5\" type=\"checkbox\" ><label for=\"sk-estimator-id-5\" class=\"sk-toggleable__label sk-toggleable__label-arrow\">StandardScaler</label><div class=\"sk-toggleable__content\"><pre>StandardScaler()</pre></div></div></div><div class=\"sk-item\"><div class=\"sk-estimator sk-toggleable\"><input class=\"sk-toggleable__control sk-hidden--visually\" id=\"sk-estimator-id-6\" type=\"checkbox\" ><label for=\"sk-estimator-id-6\" class=\"sk-toggleable__label sk-toggleable__label-arrow\">RandomForestRegressor</label><div class=\"sk-toggleable__content\"><pre>RandomForestRegressor(n_estimators=50, n_jobs=-1)</pre></div></div></div></div></div></div></div>"
      ],
      "text/plain": [
       "Pipeline(steps=[('scaler', StandardScaler()),\n",
       "                ('model', RandomForestRegressor(n_estimators=50, n_jobs=-1))])"
      ]
     },
     "execution_count": 23,
     "metadata": {},
     "output_type": "execute_result"
    }
   ],
   "source": [
    "model_pipelineRFR.fit(X_train,y_train)"
   ]
  },
  {
   "cell_type": "code",
   "execution_count": 24,
   "id": "9c2fed3d",
   "metadata": {
    "execution": {
     "iopub.execute_input": "2024-09-18T23:53:44.720657Z",
     "iopub.status.busy": "2024-09-18T23:53:44.720140Z",
     "iopub.status.idle": "2024-09-18T23:53:44.887042Z",
     "shell.execute_reply": "2024-09-18T23:53:44.885974Z"
    },
    "id": "kdXSPgg9RTZY",
    "papermill": {
     "duration": 0.189941,
     "end_time": "2024-09-18T23:53:44.889728",
     "exception": false,
     "start_time": "2024-09-18T23:53:44.699787",
     "status": "completed"
    },
    "tags": []
   },
   "outputs": [],
   "source": [
    "y_predRFR = model_pipelineRFR.predict(X_test)"
   ]
  },
  {
   "cell_type": "code",
   "execution_count": 25,
   "id": "4e67dbf0",
   "metadata": {
    "execution": {
     "iopub.execute_input": "2024-09-18T23:53:44.930305Z",
     "iopub.status.busy": "2024-09-18T23:53:44.929044Z",
     "iopub.status.idle": "2024-09-18T23:53:44.937548Z",
     "shell.execute_reply": "2024-09-18T23:53:44.936415Z"
    },
    "id": "gnPACsg7RTZY",
    "outputId": "d4bdd3ba-eada-49d9-e4bf-9a423ac39069",
    "papermill": {
     "duration": 0.030895,
     "end_time": "2024-09-18T23:53:44.939839",
     "exception": false,
     "start_time": "2024-09-18T23:53:44.908944",
     "status": "completed"
    },
    "tags": []
   },
   "outputs": [
    {
     "data": {
      "text/plain": [
       "0.2662091204164133"
      ]
     },
     "execution_count": 25,
     "metadata": {},
     "output_type": "execute_result"
    }
   ],
   "source": [
    "msePipelineRFR = mean_squared_error(y_test,y_predRFR)\n",
    "msePipelineRFR"
   ]
  },
  {
   "cell_type": "markdown",
   "id": "9d39d210",
   "metadata": {
    "id": "M1p0OZG5RTZY",
    "papermill": {
     "duration": 0.01853,
     "end_time": "2024-09-18T23:53:45.035209",
     "exception": false,
     "start_time": "2024-09-18T23:53:45.016679",
     "status": "completed"
    },
    "tags": []
   },
   "source": [
    "Burada RandomForestRegressorlu pipeline'ın mean squared error skoru 28 çıkıyor yani linear regresyona göre daha başarılı"
   ]
  },
  {
   "cell_type": "code",
   "execution_count": 26,
   "id": "22c0979a",
   "metadata": {
    "execution": {
     "iopub.execute_input": "2024-09-18T23:53:45.076224Z",
     "iopub.status.busy": "2024-09-18T23:53:45.075791Z",
     "iopub.status.idle": "2024-09-18T23:53:52.332927Z",
     "shell.execute_reply": "2024-09-18T23:53:52.331653Z"
    },
    "id": "WShs9qR0RTZY",
    "outputId": "12319997-5a56-4d84-e4f6-da361bd260ac",
    "papermill": {
     "duration": 7.280217,
     "end_time": "2024-09-18T23:53:52.335632",
     "exception": false,
     "start_time": "2024-09-18T23:53:45.055415",
     "status": "completed"
    },
    "tags": []
   },
   "outputs": [
    {
     "data": {
      "text/html": [
       "<style>#sk-container-id-3 {color: black;background-color: white;}#sk-container-id-3 pre{padding: 0;}#sk-container-id-3 div.sk-toggleable {background-color: white;}#sk-container-id-3 label.sk-toggleable__label {cursor: pointer;display: block;width: 100%;margin-bottom: 0;padding: 0.3em;box-sizing: border-box;text-align: center;}#sk-container-id-3 label.sk-toggleable__label-arrow:before {content: \"▸\";float: left;margin-right: 0.25em;color: #696969;}#sk-container-id-3 label.sk-toggleable__label-arrow:hover:before {color: black;}#sk-container-id-3 div.sk-estimator:hover label.sk-toggleable__label-arrow:before {color: black;}#sk-container-id-3 div.sk-toggleable__content {max-height: 0;max-width: 0;overflow: hidden;text-align: left;background-color: #f0f8ff;}#sk-container-id-3 div.sk-toggleable__content pre {margin: 0.2em;color: black;border-radius: 0.25em;background-color: #f0f8ff;}#sk-container-id-3 input.sk-toggleable__control:checked~div.sk-toggleable__content {max-height: 200px;max-width: 100%;overflow: auto;}#sk-container-id-3 input.sk-toggleable__control:checked~label.sk-toggleable__label-arrow:before {content: \"▾\";}#sk-container-id-3 div.sk-estimator input.sk-toggleable__control:checked~label.sk-toggleable__label {background-color: #d4ebff;}#sk-container-id-3 div.sk-label input.sk-toggleable__control:checked~label.sk-toggleable__label {background-color: #d4ebff;}#sk-container-id-3 input.sk-hidden--visually {border: 0;clip: rect(1px 1px 1px 1px);clip: rect(1px, 1px, 1px, 1px);height: 1px;margin: -1px;overflow: hidden;padding: 0;position: absolute;width: 1px;}#sk-container-id-3 div.sk-estimator {font-family: monospace;background-color: #f0f8ff;border: 1px dotted black;border-radius: 0.25em;box-sizing: border-box;margin-bottom: 0.5em;}#sk-container-id-3 div.sk-estimator:hover {background-color: #d4ebff;}#sk-container-id-3 div.sk-parallel-item::after {content: \"\";width: 100%;border-bottom: 1px solid gray;flex-grow: 1;}#sk-container-id-3 div.sk-label:hover label.sk-toggleable__label {background-color: #d4ebff;}#sk-container-id-3 div.sk-serial::before {content: \"\";position: absolute;border-left: 1px solid gray;box-sizing: border-box;top: 0;bottom: 0;left: 50%;z-index: 0;}#sk-container-id-3 div.sk-serial {display: flex;flex-direction: column;align-items: center;background-color: white;padding-right: 0.2em;padding-left: 0.2em;position: relative;}#sk-container-id-3 div.sk-item {position: relative;z-index: 1;}#sk-container-id-3 div.sk-parallel {display: flex;align-items: stretch;justify-content: center;background-color: white;position: relative;}#sk-container-id-3 div.sk-item::before, #sk-container-id-3 div.sk-parallel-item::before {content: \"\";position: absolute;border-left: 1px solid gray;box-sizing: border-box;top: 0;bottom: 0;left: 50%;z-index: -1;}#sk-container-id-3 div.sk-parallel-item {display: flex;flex-direction: column;z-index: 1;position: relative;background-color: white;}#sk-container-id-3 div.sk-parallel-item:first-child::after {align-self: flex-end;width: 50%;}#sk-container-id-3 div.sk-parallel-item:last-child::after {align-self: flex-start;width: 50%;}#sk-container-id-3 div.sk-parallel-item:only-child::after {width: 0;}#sk-container-id-3 div.sk-dashed-wrapped {border: 1px dashed gray;margin: 0 0.4em 0.5em 0.4em;box-sizing: border-box;padding-bottom: 0.4em;background-color: white;}#sk-container-id-3 div.sk-label label {font-family: monospace;font-weight: bold;display: inline-block;line-height: 1.2em;}#sk-container-id-3 div.sk-label-container {text-align: center;}#sk-container-id-3 div.sk-container {/* jupyter's `normalize.less` sets `[hidden] { display: none; }` but bootstrap.min.css set `[hidden] { display: none !important; }` so we also need the `!important` here to be able to override the default hidden behavior on the sphinx rendered scikit-learn.org. See: https://github.com/scikit-learn/scikit-learn/issues/21755 */display: inline-block !important;position: relative;}#sk-container-id-3 div.sk-text-repr-fallback {display: none;}</style><div id=\"sk-container-id-3\" class=\"sk-top-container\"><div class=\"sk-text-repr-fallback\"><pre>RandomForestClassifier(max_depth=10, n_estimators=50, n_jobs=-1)</pre><b>In a Jupyter environment, please rerun this cell to show the HTML representation or trust the notebook. <br />On GitHub, the HTML representation is unable to render, please try loading this page with nbviewer.org.</b></div><div class=\"sk-container\" hidden><div class=\"sk-item\"><div class=\"sk-estimator sk-toggleable\"><input class=\"sk-toggleable__control sk-hidden--visually\" id=\"sk-estimator-id-7\" type=\"checkbox\" checked><label for=\"sk-estimator-id-7\" class=\"sk-toggleable__label sk-toggleable__label-arrow\">RandomForestClassifier</label><div class=\"sk-toggleable__content\"><pre>RandomForestClassifier(max_depth=10, n_estimators=50, n_jobs=-1)</pre></div></div></div></div></div>"
      ],
      "text/plain": [
       "RandomForestClassifier(max_depth=10, n_estimators=50, n_jobs=-1)"
      ]
     },
     "execution_count": 26,
     "metadata": {},
     "output_type": "execute_result"
    }
   ],
   "source": [
    "model =RandomForestClassifier(n_estimators=50, max_depth=10, n_jobs=-1)#burada gözetimli öğrenme modeli olarak randomforest'ı seçtim\n",
    "model.fit(X_train,y_train)# aynı şekilde varsayılan değerleri değiştiriyorum"
   ]
  },
  {
   "cell_type": "markdown",
   "id": "98cf3925",
   "metadata": {
    "id": "ExY58FNQRTZY",
    "papermill": {
     "duration": 0.018749,
     "end_time": "2024-09-18T23:53:52.374096",
     "exception": false,
     "start_time": "2024-09-18T23:53:52.355347",
     "status": "completed"
    },
    "tags": []
   },
   "source": [
    "X_train ve y_train'i modele \"fit\" metodu ile uyguluyoruz"
   ]
  },
  {
   "cell_type": "code",
   "execution_count": 27,
   "id": "16be58fd",
   "metadata": {
    "execution": {
     "iopub.execute_input": "2024-09-18T23:53:52.413943Z",
     "iopub.status.busy": "2024-09-18T23:53:52.413526Z",
     "iopub.status.idle": "2024-09-18T23:53:52.487781Z",
     "shell.execute_reply": "2024-09-18T23:53:52.486423Z"
    },
    "id": "UqkaqO-ERTZY",
    "papermill": {
     "duration": 0.097249,
     "end_time": "2024-09-18T23:53:52.490466",
     "exception": false,
     "start_time": "2024-09-18T23:53:52.393217",
     "status": "completed"
    },
    "tags": []
   },
   "outputs": [],
   "source": [
    "X_train,X_test,y_train,y_test=train_test_split(X,y,test_size=0.2,random_state=42) #eğitim ve test kümelerini böldük %20 sini test %80 train'e verdim\n",
    "y_predict =model.predict(X_test)"
   ]
  },
  {
   "cell_type": "markdown",
   "id": "e2242c7b",
   "metadata": {
    "id": "05_hRZNcRTZY",
    "papermill": {
     "duration": 0.018843,
     "end_time": "2024-09-18T23:53:52.528855",
     "exception": false,
     "start_time": "2024-09-18T23:53:52.510012",
     "status": "completed"
    },
    "tags": []
   },
   "source": [
    "X_train ve y_train modelin eğiteleceği verileri içerir\n",
    "y_train hedef değişkenimizi yani hedef_deger sütununu oluşturur\n",
    "X_test ve y_test modelin performansını ölçeceği verileri içerir\n",
    "y_test hedef değişkenimizi içerir"
   ]
  },
  {
   "cell_type": "markdown",
   "id": "b936faf0",
   "metadata": {
    "id": "xxO8CudURTZY",
    "papermill": {
     "duration": 0.018927,
     "end_time": "2024-09-18T23:53:52.566889",
     "exception": false,
     "start_time": "2024-09-18T23:53:52.547962",
     "status": "completed"
    },
    "tags": []
   },
   "source": [
    "# GÖZETİMLİ ÖĞRENME MODELİ DEĞERLENDİRMESİ"
   ]
  },
  {
   "cell_type": "code",
   "execution_count": 28,
   "id": "95347c83",
   "metadata": {
    "execution": {
     "iopub.execute_input": "2024-09-18T23:53:52.606881Z",
     "iopub.status.busy": "2024-09-18T23:53:52.606448Z",
     "iopub.status.idle": "2024-09-18T23:53:52.611463Z",
     "shell.execute_reply": "2024-09-18T23:53:52.610204Z"
    },
    "id": "s954swiTRTZY",
    "papermill": {
     "duration": 0.027623,
     "end_time": "2024-09-18T23:53:52.613804",
     "exception": false,
     "start_time": "2024-09-18T23:53:52.586181",
     "status": "completed"
    },
    "tags": []
   },
   "outputs": [],
   "source": [
    "#Tahmin yapma ve değerlendirme bölümü\n",
    "from sklearn.metrics import mean_squared_error"
   ]
  },
  {
   "cell_type": "code",
   "execution_count": 29,
   "id": "3b045e7b",
   "metadata": {
    "execution": {
     "iopub.execute_input": "2024-09-18T23:53:52.653926Z",
     "iopub.status.busy": "2024-09-18T23:53:52.653491Z",
     "iopub.status.idle": "2024-09-18T23:53:52.660940Z",
     "shell.execute_reply": "2024-09-18T23:53:52.659610Z"
    },
    "id": "tvFRKvQBRTZZ",
    "outputId": "a4a21a83-93ae-4d72-f789-27f628289540",
    "papermill": {
     "duration": 0.030104,
     "end_time": "2024-09-18T23:53:52.663246",
     "exception": false,
     "start_time": "2024-09-18T23:53:52.633142",
     "status": "completed"
    },
    "tags": []
   },
   "outputs": [
    {
     "name": "stdout",
     "output_type": "stream",
     "text": [
      "Mean Squared Error: 0.4945585355858112\n"
     ]
    }
   ],
   "source": [
    "mse=mean_squared_error(y_test,y_predict) #Mean Squared Error'u burada daha az hata almak için kullandık\n",
    "print(f\"Mean Squared Error: {mse}\")"
   ]
  },
  {
   "cell_type": "markdown",
   "id": "a3e4c8ae",
   "metadata": {
    "id": "PelYy6NNRTZZ",
    "papermill": {
     "duration": 0.019088,
     "end_time": "2024-09-18T23:53:52.701568",
     "exception": false,
     "start_time": "2024-09-18T23:53:52.682480",
     "status": "completed"
    },
    "tags": []
   },
   "source": [
    "Burada aslında gözetimsiz öğrenmede daha iyi başarı alacağımı anladım çünkü mean squared error'u zaten hataları indirgemek için kullanmıştım fakat istediğim sonucu alamadım"
   ]
  },
  {
   "cell_type": "code",
   "execution_count": 30,
   "id": "5efccea6",
   "metadata": {
    "execution": {
     "iopub.execute_input": "2024-09-18T23:53:52.741689Z",
     "iopub.status.busy": "2024-09-18T23:53:52.741249Z",
     "iopub.status.idle": "2024-09-18T23:53:54.095360Z",
     "shell.execute_reply": "2024-09-18T23:53:54.094362Z"
    },
    "id": "FydaAxYpRTZZ",
    "papermill": {
     "duration": 1.377513,
     "end_time": "2024-09-18T23:53:54.098284",
     "exception": false,
     "start_time": "2024-09-18T23:53:52.720771",
     "status": "completed"
    },
    "tags": []
   },
   "outputs": [],
   "source": [
    "from xgboost import XGBClassifier\n",
    "from sklearn.metrics import accuracy_score, classification_report\n",
    "\n",
    "# XGBoost Modelini oluşturma\n",
    "xgb_model = XGBClassifier(n_estimators=100, learning_rate=0.1, max_depth=10, random_state=42)\n",
    "xgb_model.fit(X_train, y_train)\n",
    "y_pred_xgb = xgb_model.predict(X_test)"
   ]
  },
  {
   "cell_type": "markdown",
   "id": "d914a346",
   "metadata": {
    "id": "O8K6IuKiRTZZ",
    "papermill": {
     "duration": 0.018908,
     "end_time": "2024-09-18T23:53:54.136059",
     "exception": false,
     "start_time": "2024-09-18T23:53:54.117151",
     "status": "completed"
    },
    "tags": []
   },
   "source": [
    "XGBoost kullanma sebebim modelimizin performansını ve veri setimizin boyutu dolayısıyla kullandım."
   ]
  },
  {
   "cell_type": "code",
   "execution_count": 31,
   "id": "9d34fb21",
   "metadata": {
    "execution": {
     "iopub.execute_input": "2024-09-18T23:53:54.176145Z",
     "iopub.status.busy": "2024-09-18T23:53:54.175722Z",
     "iopub.status.idle": "2024-09-18T23:53:54.187099Z",
     "shell.execute_reply": "2024-09-18T23:53:54.186008Z"
    },
    "id": "aLEZL8Q_RTZZ",
    "outputId": "701cfb9a-33e2-47be-f5d8-3e257982be50",
    "papermill": {
     "duration": 0.03419,
     "end_time": "2024-09-18T23:53:54.189428",
     "exception": false,
     "start_time": "2024-09-18T23:53:54.155238",
     "status": "completed"
    },
    "tags": []
   },
   "outputs": [
    {
     "data": {
      "text/plain": [
       "('XGBoost Accuracy Skoru: ', {0.5091298210464005})"
      ]
     },
     "execution_count": 31,
     "metadata": {},
     "output_type": "execute_result"
    }
   ],
   "source": [
    "# Accuracy skoru\n",
    "xgb_accuracy = accuracy_score(y_test, y_pred_xgb)\n",
    "\"XGBoost Accuracy Skoru: \",{xgb_accuracy}"
   ]
  },
  {
   "cell_type": "markdown",
   "id": "bcef964e",
   "metadata": {
    "papermill": {
     "duration": 0.019512,
     "end_time": "2024-09-18T23:53:54.228353",
     "exception": false,
     "start_time": "2024-09-18T23:53:54.208841",
     "status": "completed"
    },
    "tags": []
   },
   "source": [
    "Skorumuz 49 çıktı başarımız yüksek değil bunun sebebi bitcoin çok fazla değişkene sahip bir dataset örneğin bir adamın ölmesi bile data setimizde büyük bir değişim yaratabiliyor ben burada temel ve basit bir model eğittim. Tabiki bu geliştirilebilir."
   ]
  },
  {
   "cell_type": "code",
   "execution_count": 32,
   "id": "4b2cb5ed",
   "metadata": {
    "execution": {
     "iopub.execute_input": "2024-09-18T23:53:54.268672Z",
     "iopub.status.busy": "2024-09-18T23:53:54.268213Z",
     "iopub.status.idle": "2024-09-18T23:53:54.321693Z",
     "shell.execute_reply": "2024-09-18T23:53:54.320625Z"
    },
    "id": "EPj1cvXHRTZZ",
    "outputId": "a0d0f15e-e53a-41de-e82e-05765e121890",
    "papermill": {
     "duration": 0.076556,
     "end_time": "2024-09-18T23:53:54.324154",
     "exception": false,
     "start_time": "2024-09-18T23:53:54.247598",
     "status": "completed"
    },
    "tags": []
   },
   "outputs": [
    {
     "name": "stdout",
     "output_type": "stream",
     "text": [
      "XGBoost Classification Report:\n",
      "               precision    recall  f1-score   support\n",
      "\n",
      "           0       0.50      0.50      0.50     10826\n",
      "           1       0.52      0.52      0.52     11135\n",
      "\n",
      "    accuracy                           0.51     21961\n",
      "   macro avg       0.51      0.51      0.51     21961\n",
      "weighted avg       0.51      0.51      0.51     21961\n",
      "\n"
     ]
    }
   ],
   "source": [
    "# Classification Report\n",
    "print(\"XGBoost Classification Report:\\n\", classification_report(y_test, y_pred_xgb))\n",
    "#Hangi modelin bana daha başarılı bir sonuç vereceğini görmek istiyorum"
   ]
  },
  {
   "cell_type": "code",
   "execution_count": 33,
   "id": "273c2d38",
   "metadata": {
    "execution": {
     "iopub.execute_input": "2024-09-18T23:53:54.365081Z",
     "iopub.status.busy": "2024-09-18T23:53:54.363963Z",
     "iopub.status.idle": "2024-09-18T23:54:19.631594Z",
     "shell.execute_reply": "2024-09-18T23:54:19.630281Z"
    },
    "id": "Yhup_ENvRTZZ",
    "outputId": "e47cec1f-2b24-4a33-c16e-d65865c83f5d",
    "papermill": {
     "duration": 25.290704,
     "end_time": "2024-09-18T23:54:19.634104",
     "exception": false,
     "start_time": "2024-09-18T23:53:54.343400",
     "status": "completed"
    },
    "tags": []
   },
   "outputs": [
    {
     "data": {
      "text/plain": [
       "('Cross-Validation Ortalama Skoru:', {0.5069899817850636})"
      ]
     },
     "execution_count": 33,
     "metadata": {},
     "output_type": "execute_result"
    }
   ],
   "source": [
    "#cross validation yapmaya karar verdim\n",
    "from sklearn.model_selection import cross_val_score\n",
    "cv_scores = cross_val_score(model, X_train, y_train, cv=5)\n",
    "\"Cross-Validation Ortalama Skoru:\",{cv_scores.mean()}"
   ]
  },
  {
   "cell_type": "code",
   "execution_count": 34,
   "id": "eaf4155e",
   "metadata": {
    "execution": {
     "iopub.execute_input": "2024-09-18T23:54:19.676004Z",
     "iopub.status.busy": "2024-09-18T23:54:19.675592Z",
     "iopub.status.idle": "2024-09-18T23:54:19.988469Z",
     "shell.execute_reply": "2024-09-18T23:54:19.987259Z"
    },
    "id": "zjni6NoGTZr5",
    "outputId": "32515efa-92a2-46bb-e96e-465d91665b87",
    "papermill": {
     "duration": 0.336775,
     "end_time": "2024-09-18T23:54:19.991255",
     "exception": false,
     "start_time": "2024-09-18T23:54:19.654480",
     "status": "completed"
    },
    "tags": []
   },
   "outputs": [
    {
     "data": {
      "image/png": "[encoded data removed]",
      "text/plain": [
       "<Figure size 640x480 with 1 Axes>"
      ]
     },
     "metadata": {},
     "output_type": "display_data"
    }
   ],
   "source": [
    "from sklearn.metrics import roc_curve, auc\n",
    "\n",
    "# ROC eğrisi\n",
    "fpr, tpr, _ = roc_curve(y_test, model.predict_proba(X_test)[:,1])\n",
    "roc_auc = auc(fpr, tpr)\n",
    "plt.figure()\n",
    "plt.plot(fpr, tpr, color='darkorange', lw=2, label='ROC curve (area = %0.2f)' % roc_auc)\n",
    "plt.plot([0, 1], [0, 1], color='navy', lw=2, linestyle='--')\n",
    "plt.xlim([0.0, 1.0])\n",
    "plt.ylim([0.0, 1.05])\n",
    "plt.xlabel('False Positive Rate')\n",
    "plt.ylabel('True Positive Rate')\n",
    "plt.title('Receiver Operating Characteristic')\n",
    "plt.legend(loc=\"lower right\")\n",
    "plt.show()\n"
   ]
  },
  {
   "cell_type": "markdown",
   "id": "f3e1f4c7",
   "metadata": {
    "id": "WWr94SntTbId",
    "papermill": {
     "duration": 0.01973,
     "end_time": "2024-09-18T23:54:20.032703",
     "exception": false,
     "start_time": "2024-09-18T23:54:20.012973",
     "status": "completed"
    },
    "tags": []
   },
   "source": [
    "ROC curve ve grafiğimizi yarıya bölen çizgi arasında kalan alan ne kadar 1'e yakınsa o kadar hesaplamamız başarılı demektir. ROC eğrisi, modelinizin sınıflandırma performansını görselleştirmenizi sağlar."
   ]
  },
  {
   "cell_type": "markdown",
   "id": "a801f190",
   "metadata": {
    "id": "kfKwxbJbRTZZ",
    "papermill": {
     "duration": 0.019771,
     "end_time": "2024-09-18T23:54:20.072678",
     "exception": false,
     "start_time": "2024-09-18T23:54:20.052907",
     "status": "completed"
    },
    "tags": []
   },
   "source": [
    "# * GÖZETİMSİZ ÖĞRENME"
   ]
  },
  {
   "cell_type": "code",
   "execution_count": 35,
   "id": "b195929d",
   "metadata": {
    "execution": {
     "iopub.execute_input": "2024-09-18T23:54:20.114777Z",
     "iopub.status.busy": "2024-09-18T23:54:20.114329Z",
     "iopub.status.idle": "2024-09-18T23:54:20.199543Z",
     "shell.execute_reply": "2024-09-18T23:54:20.198247Z"
    },
    "id": "dkGpylOzRTZZ",
    "papermill": {
     "duration": 0.109602,
     "end_time": "2024-09-18T23:54:20.202356",
     "exception": false,
     "start_time": "2024-09-18T23:54:20.092754",
     "status": "completed"
    },
    "tags": []
   },
   "outputs": [],
   "source": [
    "#Gözetimsiz öğrenme için KMeans modelini seçtim daha uyumlu hale getiriyo\n",
    "#bunun dışında DBSCAN'i GridSearchCV ile kullanıyorum(karşılaştırma için)\n",
    "\n",
    "from sklearn.cluster import KMeans\n",
    "from sklearn.preprocessing import StandardScaler, MinMaxScaler\n",
    "from sklearn.cluster import DBSCAN\n",
    "from sklearn.model_selection import GridSearchCV\n",
    "from sklearn.metrics import silhouette_score"
   ]
  },
  {
   "cell_type": "code",
   "execution_count": 36,
   "id": "df61e414",
   "metadata": {
    "execution": {
     "iopub.execute_input": "2024-09-18T23:54:20.246123Z",
     "iopub.status.busy": "2024-09-18T23:54:20.245236Z",
     "iopub.status.idle": "2024-09-18T23:54:20.264244Z",
     "shell.execute_reply": "2024-09-18T23:54:20.263118Z"
    },
    "id": "1yf2EcsiRTZZ",
    "outputId": "7d90990f-768a-4bad-ddd3-577dd8194a90",
    "papermill": {
     "duration": 0.044109,
     "end_time": "2024-09-18T23:54:20.266840",
     "exception": false,
     "start_time": "2024-09-18T23:54:20.222731",
     "status": "completed"
    },
    "tags": []
   },
   "outputs": [
    {
     "data": {
      "text/html": [
       "<div>\n",
       "<style scoped>\n",
       "    .dataframe tbody tr th:only-of-type {\n",
       "        vertical-align: middle;\n",
       "    }\n",
       "\n",
       "    .dataframe tbody tr th {\n",
       "        vertical-align: top;\n",
       "    }\n",
       "\n",
       "    .dataframe thead th {\n",
       "        text-align: right;\n",
       "    }\n",
       "</style>\n",
       "<table border=\"1\" class=\"dataframe\">\n",
       "  <thead>\n",
       "    <tr style=\"text-align: right;\">\n",
       "      <th></th>\n",
       "      <th>Open</th>\n",
       "      <th>High</th>\n",
       "      <th>Low</th>\n",
       "      <th>Close</th>\n",
       "      <th>Volume</th>\n",
       "    </tr>\n",
       "  </thead>\n",
       "  <tbody>\n",
       "    <tr>\n",
       "      <th>199</th>\n",
       "      <td>-0.398196</td>\n",
       "      <td>-0.395963</td>\n",
       "      <td>-0.394279</td>\n",
       "      <td>32276.37</td>\n",
       "      <td>-0.487719</td>\n",
       "    </tr>\n",
       "    <tr>\n",
       "      <th>200</th>\n",
       "      <td>-0.395602</td>\n",
       "      <td>-0.395761</td>\n",
       "      <td>-0.393579</td>\n",
       "      <td>32324.51</td>\n",
       "      <td>-0.472756</td>\n",
       "    </tr>\n",
       "    <tr>\n",
       "      <th>201</th>\n",
       "      <td>-0.392601</td>\n",
       "      <td>-0.393199</td>\n",
       "      <td>-0.391400</td>\n",
       "      <td>32287.83</td>\n",
       "      <td>-0.470487</td>\n",
       "    </tr>\n",
       "    <tr>\n",
       "      <th>202</th>\n",
       "      <td>-0.394903</td>\n",
       "      <td>-0.391270</td>\n",
       "      <td>-0.395588</td>\n",
       "      <td>32213.39</td>\n",
       "      <td>-0.258938</td>\n",
       "    </tr>\n",
       "    <tr>\n",
       "      <th>203</th>\n",
       "      <td>-0.399529</td>\n",
       "      <td>-0.391008</td>\n",
       "      <td>-0.396336</td>\n",
       "      <td>32277.66</td>\n",
       "      <td>-0.334706</td>\n",
       "    </tr>\n",
       "    <tr>\n",
       "      <th>...</th>\n",
       "      <td>...</td>\n",
       "      <td>...</td>\n",
       "      <td>...</td>\n",
       "      <td>...</td>\n",
       "      <td>...</td>\n",
       "    </tr>\n",
       "    <tr>\n",
       "      <th>109995</th>\n",
       "      <td>1.013142</td>\n",
       "      <td>1.023775</td>\n",
       "      <td>1.013769</td>\n",
       "      <td>54943.98</td>\n",
       "      <td>-0.320650</td>\n",
       "    </tr>\n",
       "    <tr>\n",
       "      <th>109996</th>\n",
       "      <td>1.017757</td>\n",
       "      <td>1.027509</td>\n",
       "      <td>1.023955</td>\n",
       "      <td>55020.01</td>\n",
       "      <td>-0.439382</td>\n",
       "    </tr>\n",
       "    <tr>\n",
       "      <th>109997</th>\n",
       "      <td>1.022498</td>\n",
       "      <td>1.017957</td>\n",
       "      <td>1.018557</td>\n",
       "      <td>54842.63</td>\n",
       "      <td>-0.521175</td>\n",
       "    </tr>\n",
       "    <tr>\n",
       "      <th>109998</th>\n",
       "      <td>1.011438</td>\n",
       "      <td>1.019420</td>\n",
       "      <td>1.008938</td>\n",
       "      <td>55045.00</td>\n",
       "      <td>-0.369851</td>\n",
       "    </tr>\n",
       "    <tr>\n",
       "      <th>109999</th>\n",
       "      <td>1.024057</td>\n",
       "      <td>1.037478</td>\n",
       "      <td>1.029830</td>\n",
       "      <td>55139.39</td>\n",
       "      <td>-0.110796</td>\n",
       "    </tr>\n",
       "  </tbody>\n",
       "</table>\n",
       "<p>109801 rows × 5 columns</p>\n",
       "</div>"
      ],
      "text/plain": [
       "            Open      High       Low     Close    Volume\n",
       "199    -0.398196 -0.395963 -0.394279  32276.37 -0.487719\n",
       "200    -0.395602 -0.395761 -0.393579  32324.51 -0.472756\n",
       "201    -0.392601 -0.393199 -0.391400  32287.83 -0.470487\n",
       "202    -0.394903 -0.391270 -0.395588  32213.39 -0.258938\n",
       "203    -0.399529 -0.391008 -0.396336  32277.66 -0.334706\n",
       "...          ...       ...       ...       ...       ...\n",
       "109995  1.013142  1.023775  1.013769  54943.98 -0.320650\n",
       "109996  1.017757  1.027509  1.023955  55020.01 -0.439382\n",
       "109997  1.022498  1.017957  1.018557  54842.63 -0.521175\n",
       "109998  1.011438  1.019420  1.008938  55045.00 -0.369851\n",
       "109999  1.024057  1.037478  1.029830  55139.39 -0.110796\n",
       "\n",
       "[109801 rows x 5 columns]"
      ]
     },
     "execution_count": 36,
     "metadata": {},
     "output_type": "execute_result"
    }
   ],
   "source": [
    "Z=df[['Open','High','Low','Close','Volume']] #Özellikler\n",
    "Z"
   ]
  },
  {
   "cell_type": "code",
   "execution_count": 37,
   "id": "2986d459",
   "metadata": {
    "execution": {
     "iopub.execute_input": "2024-09-18T23:54:20.310239Z",
     "iopub.status.busy": "2024-09-18T23:54:20.309815Z",
     "iopub.status.idle": "2024-09-18T23:54:21.996838Z",
     "shell.execute_reply": "2024-09-18T23:54:21.995601Z"
    },
    "id": "_6wCNy7kRTZa",
    "papermill": {
     "duration": 1.712415,
     "end_time": "2024-09-18T23:54:22.000219",
     "exception": false,
     "start_time": "2024-09-18T23:54:20.287804",
     "status": "completed"
    },
    "tags": []
   },
   "outputs": [],
   "source": [
    "#KMeans'i uygulamaya başlıyorum\n",
    "kmeans= KMeans(n_clusters=2, random_state=42)\n",
    "clusters=kmeans.fit_predict(Z) #clusters değişkenine özelliklerimizle oluşturulan bir kmeans modelini fit ediyorum\n"
   ]
  },
  {
   "cell_type": "code",
   "execution_count": 38,
   "id": "c71f0b17",
   "metadata": {
    "execution": {
     "iopub.execute_input": "2024-09-18T23:54:22.061626Z",
     "iopub.status.busy": "2024-09-18T23:54:22.061183Z",
     "iopub.status.idle": "2024-09-18T23:54:22.068418Z",
     "shell.execute_reply": "2024-09-18T23:54:22.067392Z"
    },
    "id": "D0em4S9ERTZa",
    "outputId": "6668746e-8bf3-40e3-9a6d-821b67f54777",
    "papermill": {
     "duration": 0.041231,
     "end_time": "2024-09-18T23:54:22.070579",
     "exception": false,
     "start_time": "2024-09-18T23:54:22.029348",
     "status": "completed"
    },
    "tags": []
   },
   "outputs": [
    {
     "data": {
      "text/plain": [
       "array([0, 0, 0, ..., 1, 1, 1], dtype=int32)"
      ]
     },
     "execution_count": 38,
     "metadata": {},
     "output_type": "execute_result"
    }
   ],
   "source": [
    "clusters #burda size clusters değişkenimizin array cinsinde olduğunu ve bir data frame'e ihtiyacı olduğunu gösteriyorum"
   ]
  },
  {
   "cell_type": "code",
   "execution_count": 39,
   "id": "f92b4493",
   "metadata": {
    "execution": {
     "iopub.execute_input": "2024-09-18T23:54:22.114666Z",
     "iopub.status.busy": "2024-09-18T23:54:22.114142Z",
     "iopub.status.idle": "2024-09-18T23:54:22.133453Z",
     "shell.execute_reply": "2024-09-18T23:54:22.132220Z"
    },
    "id": "r3YH_y-FRTZa",
    "outputId": "7fc3827e-0b2d-49a0-a465-4a2822f4a58e",
    "papermill": {
     "duration": 0.043832,
     "end_time": "2024-09-18T23:54:22.136003",
     "exception": false,
     "start_time": "2024-09-18T23:54:22.092171",
     "status": "completed"
    },
    "tags": []
   },
   "outputs": [
    {
     "data": {
      "text/html": [
       "<div>\n",
       "<style scoped>\n",
       "    .dataframe tbody tr th:only-of-type {\n",
       "        vertical-align: middle;\n",
       "    }\n",
       "\n",
       "    .dataframe tbody tr th {\n",
       "        vertical-align: top;\n",
       "    }\n",
       "\n",
       "    .dataframe thead th {\n",
       "        text-align: right;\n",
       "    }\n",
       "</style>\n",
       "<table border=\"1\" class=\"dataframe\">\n",
       "  <thead>\n",
       "    <tr style=\"text-align: right;\">\n",
       "      <th></th>\n",
       "      <th>Open</th>\n",
       "      <th>High</th>\n",
       "      <th>Low</th>\n",
       "      <th>Close</th>\n",
       "      <th>Volume</th>\n",
       "      <th>Quote asset volume</th>\n",
       "      <th>Number of trades</th>\n",
       "      <th>Taker buy base asset volume</th>\n",
       "      <th>Taker buy quote asset volume</th>\n",
       "      <th>Hedef_deger</th>\n",
       "      <th>Clusters</th>\n",
       "    </tr>\n",
       "  </thead>\n",
       "  <tbody>\n",
       "    <tr>\n",
       "      <th>199</th>\n",
       "      <td>-0.398196</td>\n",
       "      <td>-0.395963</td>\n",
       "      <td>-0.394279</td>\n",
       "      <td>32276.37</td>\n",
       "      <td>-0.487719</td>\n",
       "      <td>-0.584467</td>\n",
       "      <td>-0.513558</td>\n",
       "      <td>-0.445950</td>\n",
       "      <td>-0.524161</td>\n",
       "      <td>1</td>\n",
       "      <td>0</td>\n",
       "    </tr>\n",
       "    <tr>\n",
       "      <th>200</th>\n",
       "      <td>-0.395602</td>\n",
       "      <td>-0.395761</td>\n",
       "      <td>-0.393579</td>\n",
       "      <td>32324.51</td>\n",
       "      <td>-0.472756</td>\n",
       "      <td>-0.563197</td>\n",
       "      <td>-0.535605</td>\n",
       "      <td>-0.411938</td>\n",
       "      <td>-0.476113</td>\n",
       "      <td>0</td>\n",
       "      <td>0</td>\n",
       "    </tr>\n",
       "    <tr>\n",
       "      <th>201</th>\n",
       "      <td>-0.392601</td>\n",
       "      <td>-0.393199</td>\n",
       "      <td>-0.391400</td>\n",
       "      <td>32287.83</td>\n",
       "      <td>-0.470487</td>\n",
       "      <td>-0.559816</td>\n",
       "      <td>-0.545151</td>\n",
       "      <td>-0.448001</td>\n",
       "      <td>-0.526671</td>\n",
       "      <td>0</td>\n",
       "      <td>0</td>\n",
       "    </tr>\n",
       "    <tr>\n",
       "      <th>202</th>\n",
       "      <td>-0.394903</td>\n",
       "      <td>-0.391270</td>\n",
       "      <td>-0.395588</td>\n",
       "      <td>32213.39</td>\n",
       "      <td>-0.258938</td>\n",
       "      <td>-0.260881</td>\n",
       "      <td>-0.461477</td>\n",
       "      <td>-0.205223</td>\n",
       "      <td>-0.184365</td>\n",
       "      <td>1</td>\n",
       "      <td>0</td>\n",
       "    </tr>\n",
       "    <tr>\n",
       "      <th>203</th>\n",
       "      <td>-0.399529</td>\n",
       "      <td>-0.391008</td>\n",
       "      <td>-0.396336</td>\n",
       "      <td>32277.66</td>\n",
       "      <td>-0.334706</td>\n",
       "      <td>-0.368116</td>\n",
       "      <td>-0.568854</td>\n",
       "      <td>-0.280943</td>\n",
       "      <td>-0.291468</td>\n",
       "      <td>1</td>\n",
       "      <td>0</td>\n",
       "    </tr>\n",
       "  </tbody>\n",
       "</table>\n",
       "</div>"
      ],
      "text/plain": [
       "         Open      High       Low     Close    Volume  Quote asset volume  \\\n",
       "199 -0.398196 -0.395963 -0.394279  32276.37 -0.487719           -0.584467   \n",
       "200 -0.395602 -0.395761 -0.393579  32324.51 -0.472756           -0.563197   \n",
       "201 -0.392601 -0.393199 -0.391400  32287.83 -0.470487           -0.559816   \n",
       "202 -0.394903 -0.391270 -0.395588  32213.39 -0.258938           -0.260881   \n",
       "203 -0.399529 -0.391008 -0.396336  32277.66 -0.334706           -0.368116   \n",
       "\n",
       "     Number of trades  Taker buy base asset volume  \\\n",
       "199         -0.513558                    -0.445950   \n",
       "200         -0.535605                    -0.411938   \n",
       "201         -0.545151                    -0.448001   \n",
       "202         -0.461477                    -0.205223   \n",
       "203         -0.568854                    -0.280943   \n",
       "\n",
       "     Taker buy quote asset volume  Hedef_deger  Clusters  \n",
       "199                     -0.524161            1         0  \n",
       "200                     -0.476113            0         0  \n",
       "201                     -0.526671            0         0  \n",
       "202                     -0.184365            1         0  \n",
       "203                     -0.291468            1         0  "
      ]
     },
     "execution_count": 39,
     "metadata": {},
     "output_type": "execute_result"
    }
   ],
   "source": [
    "#DataFrame'e ekliyorum\n",
    "df['Clusters']=clusters\n",
    "df.head()"
   ]
  },
  {
   "cell_type": "markdown",
   "id": "b9c0f385",
   "metadata": {
    "id": "tTSc-JBgrWfx",
    "papermill": {
     "duration": 0.021068,
     "end_time": "2024-09-18T23:54:22.178115",
     "exception": false,
     "start_time": "2024-09-18T23:54:22.157047",
     "status": "completed"
    },
    "tags": []
   },
   "source": [
    "Son olarak DBSCAN yaparak gözetimsiz öğrenmenin son kümelemesini yapıyorum"
   ]
  },
  {
   "cell_type": "code",
   "execution_count": 40,
   "id": "9d552af6",
   "metadata": {
    "execution": {
     "iopub.execute_input": "2024-09-18T23:54:22.223824Z",
     "iopub.status.busy": "2024-09-18T23:54:22.223301Z",
     "iopub.status.idle": "2024-09-18T23:54:22.246226Z",
     "shell.execute_reply": "2024-09-18T23:54:22.244911Z"
    },
    "id": "tcmQAfHyrpyK",
    "papermill": {
     "duration": 0.047971,
     "end_time": "2024-09-18T23:54:22.248977",
     "exception": false,
     "start_time": "2024-09-18T23:54:22.201006",
     "status": "completed"
    },
    "tags": []
   },
   "outputs": [],
   "source": [
    "#Burada verimi hazırlıyorum ve muhtemelen yaptığım scaler'ı tekrar yapıyorum\n",
    "ÖzelliklerUS = ['Open', 'High', 'Low', 'Close', 'Volume']\n",
    "scaler = MinMaxScaler()\n",
    "X_scaled = scaler.fit_transform(df[ÖzelliklerUS])\n"
   ]
  },
  {
   "cell_type": "markdown",
   "id": "3872d175",
   "metadata": {
    "id": "YqNM6Tw6sJ-v",
    "papermill": {
     "duration": 0.020538,
     "end_time": "2024-09-18T23:54:22.291683",
     "exception": false,
     "start_time": "2024-09-18T23:54:22.271145",
     "status": "completed"
    },
    "tags": []
   },
   "source": [
    "Hiperparametre optimizasyonu yapmaya başlıyorum(GridSearchCV)"
   ]
  },
  {
   "cell_type": "code",
   "execution_count": 41,
   "id": "c2bade61",
   "metadata": {
    "execution": {
     "iopub.execute_input": "2024-09-18T23:54:22.336721Z",
     "iopub.status.busy": "2024-09-18T23:54:22.336187Z",
     "iopub.status.idle": "2024-09-19T00:00:38.033268Z",
     "shell.execute_reply": "2024-09-19T00:00:38.031212Z"
    },
    "id": "QOltR9iQsU7L",
    "outputId": "7d0200bc-f9a9-4f9e-ed0d-4f8ece552db9",
    "papermill": {
     "duration": 375.725871,
     "end_time": "2024-09-19T00:00:38.038868",
     "exception": false,
     "start_time": "2024-09-18T23:54:22.312997",
     "status": "completed"
    },
    "tags": []
   },
   "outputs": [
    {
     "name": "stdout",
     "output_type": "stream",
     "text": [
      "Fitting 3 folds for each of 4 candidates, totalling 12 fits\n"
     ]
    }
   ],
   "source": [
    "# DBSCAN modelini oluşturma\n",
    "dbscan = DBSCAN()\n",
    "\n",
    "# Hiperparametreleri belirleme\n",
    "param_grid = {\n",
    "    'dbscan__eps': [0.1, 0.3],\n",
    "    'dbscan__min_samples': [5, 10]\n",
    "}\n",
    "\n",
    "# Pipeline oluşturma\n",
    "pipeline = Pipeline([\n",
    "    ('scaler', MinMaxScaler()),\n",
    "    ('dbscan', DBSCAN())\n",
    "])\n",
    "\n",
    "# GridSearchCV ile hiperparametre optimizasyonu\n",
    "grid_search = GridSearchCV(pipeline, param_grid, cv=3, scoring='neg_mean_squared_error', verbose=1)\n",
    "grid_search.fit(X_scaled)\n",
    "\n",
    "# En iyi hiperparametrelerle model\n",
    "best_dbscan = grid_search.best_estimator_.named_steps['dbscan']\n",
    "best_params = grid_search.best_params_\n",
    "\n",
    "# En iyi model ile tahmin yapıyorum\n",
    "labels = best_dbscan.fit_predict(X_scaled)\n"
   ]
  },
  {
   "cell_type": "markdown",
   "id": "ebce0e78",
   "metadata": {
    "id": "Zo8t_rLXRTZa",
    "papermill": {
     "duration": 0.021017,
     "end_time": "2024-09-19T00:00:38.086571",
     "exception": false,
     "start_time": "2024-09-19T00:00:38.065554",
     "status": "completed"
    },
    "tags": []
   },
   "source": [
    "# GÖZETİMSİZ ÖĞRENME MODELİ DEĞERLENDİRMESİ"
   ]
  },
  {
   "cell_type": "code",
   "execution_count": 42,
   "id": "d6cb7ac4",
   "metadata": {
    "execution": {
     "iopub.execute_input": "2024-09-19T00:00:38.133310Z",
     "iopub.status.busy": "2024-09-19T00:00:38.132826Z",
     "iopub.status.idle": "2024-09-19T00:02:45.399771Z",
     "shell.execute_reply": "2024-09-19T00:02:45.397572Z"
    },
    "id": "WM6_oeamgFvw",
    "outputId": "818c7160-da88-4417-aeff-fc6ba1feed46",
    "papermill": {
     "duration": 127.319849,
     "end_time": "2024-09-19T00:02:45.428749",
     "exception": false,
     "start_time": "2024-09-19T00:00:38.108900",
     "status": "completed"
    },
    "tags": []
   },
   "outputs": [
    {
     "data": {
      "image/png": "[encoded data removed]",
      "text/plain": [
       "<Figure size 1400x700 with 2 Axes>"
      ]
     },
     "metadata": {},
     "output_type": "display_data"
    },
    {
     "name": "stdout",
     "output_type": "stream",
     "text": [
      "Silhouette Skoru: 0.337\n"
     ]
    }
   ],
   "source": [
    "# Kümeleri görselleştirme\n",
    "plt.figure(figsize=(14, 7))\n",
    "plt.scatter(X['Close'], X['Volume'], c=labels, cmap='viridis', s=10)\n",
    "plt.title('DBSCAN ile Kümeleme Sonuçları')\n",
    "plt.xlabel('Kapanış Fiyatı')\n",
    "plt.ylabel('İşlem Hacmi')\n",
    "plt.colorbar(label='Küme Etiketi')\n",
    "plt.show()\n",
    "\n",
    "# Silhouette Skoru (Kümeler arası ayrımı ölçmek için)\n",
    "if len(set(labels)) > 1:  # Kümelerin sayısı 1'den fazlaysa\n",
    "    score = silhouette_score(X_scaled, labels)\n",
    "    print(f\"Silhouette Skoru: {score:.3f}\")\n",
    "else:\n",
    "    print(\"Yalnızca bir küme bulundu. Silhouette skoru hesaplanamaz.\")"
   ]
  },
  {
   "cell_type": "markdown",
   "id": "f08eff18",
   "metadata": {
    "id": "opzlmcKl8zqK",
    "papermill": {
     "duration": 0.022619,
     "end_time": "2024-09-19T00:02:45.474533",
     "exception": false,
     "start_time": "2024-09-19T00:02:45.451914",
     "status": "completed"
    },
    "tags": []
   },
   "source": [
    "Burada gördüğümüz gibi insanlar bitcoin fiyatı 15000 ile 28000 arası olduğunda daha çok işlem yapmışlar artı olarak DBSCAN kümelemesi bizim verimiz için daha verimsiz ve çok düşük bir başarı oranı olduğunu görebiliriz sebebi KMeans kümelemesinde silhoutte skorumuzun daha yüksek olması"
   ]
  },
  {
   "cell_type": "code",
   "execution_count": 43,
   "id": "eb69f122",
   "metadata": {
    "execution": {
     "iopub.execute_input": "2024-09-19T00:02:45.523051Z",
     "iopub.status.busy": "2024-09-19T00:02:45.522276Z",
     "iopub.status.idle": "2024-09-19T00:02:45.527851Z",
     "shell.execute_reply": "2024-09-19T00:02:45.526701Z"
    },
    "id": "fWUSTLb5RTZa",
    "papermill": {
     "duration": 0.033028,
     "end_time": "2024-09-19T00:02:45.530411",
     "exception": false,
     "start_time": "2024-09-19T00:02:45.497383",
     "status": "completed"
    },
    "tags": []
   },
   "outputs": [],
   "source": [
    "# KMeans kümelemesini Silhouette Skoru ile Hesaplamayı deneyeceğim\n",
    "from sklearn.metrics import silhouette_score"
   ]
  },
  {
   "cell_type": "code",
   "execution_count": 44,
   "id": "29528ece",
   "metadata": {
    "execution": {
     "iopub.execute_input": "2024-09-19T00:02:45.578471Z",
     "iopub.status.busy": "2024-09-19T00:02:45.578069Z",
     "iopub.status.idle": "2024-09-19T00:02:56.524939Z",
     "shell.execute_reply": "2024-09-19T00:02:56.523899Z"
    },
    "id": "h_7TqcjRRTZa",
    "outputId": "a49d94c2-51bc-4722-f7a0-b91f0d7e83d0",
    "papermill": {
     "duration": 10.973518,
     "end_time": "2024-09-19T00:02:56.527350",
     "exception": false,
     "start_time": "2024-09-19T00:02:45.553832",
     "status": "completed"
    },
    "tags": []
   },
   "outputs": [
    {
     "data": {
      "text/plain": [
       "('Silhouette Skoru:', {0.624813077725792})"
      ]
     },
     "execution_count": 44,
     "metadata": {},
     "output_type": "execute_result"
    }
   ],
   "source": [
    "Z_sample, _, clusters_sample, _ = train_test_split(Z, clusters, test_size=0.7, random_state=42)\n",
    "silhouette_avg = silhouette_score(Z_sample, clusters_sample) #Veri setinin sadece %30'unu kullan\n",
    "\"Silhouette Skoru:\",{silhouette_avg}"
   ]
  },
  {
   "cell_type": "markdown",
   "id": "2c8364a4",
   "metadata": {
    "id": "ZQm6NOM8RTZa",
    "papermill": {
     "duration": 0.022561,
     "end_time": "2024-09-19T00:02:56.572786",
     "exception": false,
     "start_time": "2024-09-19T00:02:56.550225",
     "status": "completed"
    },
    "tags": []
   },
   "source": [
    "Burada anlıyoruz ki verimiz gözetimsiz öğrenmede KMeans'e göre yatkın ve normalde 48-52 arası olan başarımız 62'e çıkıyor"
   ]
  },
  {
   "cell_type": "code",
   "execution_count": 45,
   "id": "28298f35",
   "metadata": {
    "execution": {
     "iopub.execute_input": "2024-09-19T00:02:56.620578Z",
     "iopub.status.busy": "2024-09-19T00:02:56.619610Z",
     "iopub.status.idle": "2024-09-19T00:02:56.625708Z",
     "shell.execute_reply": "2024-09-19T00:02:56.624555Z"
    },
    "id": "n2bttVEORTZa",
    "outputId": "5a87f61b-1eb1-41a1-e7e5-081926ce9a0d",
    "papermill": {
     "duration": 0.032288,
     "end_time": "2024-09-19T00:02:56.627816",
     "exception": false,
     "start_time": "2024-09-19T00:02:56.595528",
     "status": "completed"
    },
    "tags": []
   },
   "outputs": [
    {
     "name": "stdout",
     "output_type": "stream",
     "text": [
      "Küme İçi Hata Kareleri Toplamı (Inertia): 7277163947205.579\n"
     ]
    }
   ],
   "source": [
    "print(f\"Küme İçi Hata Kareleri Toplamı (Inertia): {kmeans.inertia_}\")"
   ]
  },
  {
   "cell_type": "markdown",
   "id": "da70d67f",
   "metadata": {
    "id": "4TA1_kwHRTZa",
    "papermill": {
     "duration": 0.023018,
     "end_time": "2024-09-19T00:02:56.673878",
     "exception": false,
     "start_time": "2024-09-19T00:02:56.650860",
     "status": "completed"
    },
    "tags": []
   },
   "source": [
    "Burada intertia değerimizin yüksek çıkma sebebi özelliğimizin (0-1) aralığında, diğerleri milyonlar seviyesinde olabilir. İntertia'da doğal olarak ortaya yüksek çıkar."
   ]
  },
  {
   "cell_type": "markdown",
   "id": "4f7bde24",
   "metadata": {
    "papermill": {
     "duration": 0.022754,
     "end_time": "2024-09-19T00:02:56.720276",
     "exception": false,
     "start_time": "2024-09-19T00:02:56.697522",
     "status": "completed"
    },
    "tags": []
   },
   "source": [
    "# FİNAL"
   ]
  },
  {
   "cell_type": "markdown",
   "id": "b0d371db",
   "metadata": {
    "papermill": {
     "duration": 0.023382,
     "end_time": "2024-09-19T00:02:56.767130",
     "exception": false,
     "start_time": "2024-09-19T00:02:56.743748",
     "status": "completed"
    },
    "tags": []
   },
   "source": [
    "**Verimizi işledik ve başarı oranları, çıkan sonuçlarımız, analiz grafiklerimize göre Datamızı için gözetimsiz öğrenme kullanmamızın daha uygun olduğu düşüncesine varıyoruz. Bu projede kullanılanlar:**\n",
    "\n",
    "Gözetimli Öğrenme\n",
    "Linear Regresyon:\n",
    "Model: Linear Regression\n",
    "Performans: Ortalama Kare Hata (MSE) hesaplandı.\n",
    "\n",
    "Random Forest Regressor:\n",
    "Model: RandomForestRegressor\n",
    "Performans: Ortalama Kare Hata (MSE) hesaplandı. \n",
    "\n",
    "Random Forest Classifier:\n",
    "Model: RandomForestClassifier\n",
    "Performans: Doğruluk Skoru ve ROC Eğrisi hesaplandı.\n",
    "\n",
    "XGBoost:\n",
    "Model: XGBClassifier\n",
    "Performans: Doğruluk Skoru ve Sınıflandırma Raporu hesaplandı.\n",
    "\n",
    "Gözetimsiz Öğrenme\n",
    "KMeans Kümeleme:\n",
    "Model: KMeans\n",
    "Kümeler belirlendi ve Silhouette Skoru hesaplandı.\n",
    "\n",
    "DBSCAN Kümeleme:\n",
    "Model: DBSCAN\n",
    "Hiperparametre optimizasyonu yapıldı ve kümeler belirlendi.\n",
    "Sonuçlar ve Değerlendirme\n",
    "\n",
    "**Gözetimli öğrenme'de düşük başarı oranı almamızın sebebi değişkenlerimizin çok olması ve kriptonun bir çok şeyden etkilenmesidir.**\n",
    "\n",
    "**Gözetimsiz öğrenmede ise olan bilgilere göre kümeleme ve tahmin yapıldığı için daha başarılı bir sonuç aldık.**"
   ]
  }
 ],
 "metadata": {
  "colab": {
   "name": "Bitcoin Project",
   "provenance": []
  },
  "kaggle": {
   "accelerator": "none",
   "dataSources": [
    {
     "datasetId": 5656419,
     "sourceId": 9347766,
     "sourceType": "datasetVersion"
    }
   ],
   "dockerImageVersionId": 30761,
   "isGpuEnabled": false,
   "isInternetEnabled": false,
   "language": "python",
   "sourceType": "notebook"
  },
  "kernelspec": {
   "display_name": "Python 3",
   "language": "python",
   "name": "python3"
  },
  "language_info": {
   "codemirror_mode": {
    "name": "ipython",
    "version": 3
   },
   "file_extension": ".py",
   "mimetype": "text/x-python",
   "name": "python",
   "nbconvert_exporter": "python",
   "pygments_lexer": "ipython3",
   "version": "3.10.14"
  },
  "papermill": {
   "default_parameters": {},
   "duration": 611.275092,
   "end_time": "2024-09-19T00:02:58.418305",
   "environment_variables": {},
   "exception": null,
   "input_path": "__notebook__.ipynb",
   "output_path": "__notebook__.ipynb",
   "parameters": {},
   "start_time": "2024-09-18T23:52:47.143213",
   "version": "2.6.0"
  }
 },
 "nbformat": 4,
 "nbformat_minor": 5
}
